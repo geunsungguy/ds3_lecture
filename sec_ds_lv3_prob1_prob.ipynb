{
 "cells": [
  {
   "cell_type": "markdown",
   "id": "75850728",
   "metadata": {},
   "source": [
    "# 시험장 환경 정보\n",
    "\n",
    "Python: 3.7.4 (tags/v3.7.4:e09359112e, Jul  8 2019, 20:34:20) [MSC v.1916 64 bit (AMD64)]\n",
    "\n",
    "|모듈|버젼|\n",
    "|----|----|\n",
    "|pandas|0.25.1|\n",
    "|numpy|1.18.5|\n",
    "|sklearn|0.21.3|\n",
    "|scipy|1.5.2|\n",
    "|mlxtend|0.15.0.0|\n",
    "|statsmodels|0.11.1|\n",
    "|xgboost|0.8|\n",
    "\n",
    "**강사: 멀티캠퍼스 강선구(sunku0316.kang@multicampus.com, sun9sun9@gmail.com)**"
   ]
  },
  {
   "cell_type": "code",
   "execution_count": 1,
   "id": "04b1901d",
   "metadata": {},
   "outputs": [
    {
     "name": "stdout",
     "output_type": "stream",
     "text": [
      "3.7.4 (tags/v3.7.4:e09359112e, Jul  8 2019, 20:34:20) [MSC v.1916 64 bit (AMD64)]\n",
      "pandas 0.25.1\n",
      "numpy 1.18.5\n",
      "sklearn 0.21.3\n",
      "scipy 1.5.2\n",
      "mlxtend 0.15.0.0\n",
      "statsmodels 0.11.1\n",
      "xgboost 0.80\n"
     ]
    }
   ],
   "source": [
    "# 실행 환경 확인\n",
    "\n",
    "import pandas as pd\n",
    "import numpy as np\n",
    "import sklearn\n",
    "import scipy\n",
    "import statsmodels\n",
    "import mlxtend\n",
    "import sys\n",
    "import xgboost as xgb\n",
    "\n",
    "print(sys.version)\n",
    "for i in [pd, np, sklearn, scipy, mlxtend, statsmodels, xgb]:\n",
    "    print(i.__name__, i.__version__)"
   ]
  },
  {
   "cell_type": "code",
   "execution_count": 2,
   "id": "b2a5207c",
   "metadata": {},
   "outputs": [],
   "source": [
    "# 시각화 모듈 설정\n",
    "# 참고용 차트를 출력하기 위함\n",
    "\n",
    "import matplotlib.pyplot as plt\n",
    "import seaborn as sns\n",
    "\n",
    "import matplotlib as mpl\n",
    "import matplotlib.font_manager as fm\n",
    "plt.rc('font', family='Malgun Gothic')\n",
    "mpl.rcParams['axes.unicode_minus'] = False"
   ]
  },
  {
   "cell_type": "markdown",
   "id": "2719eb2d",
   "metadata": {},
   "source": [
    "# 문제 개요\n",
    "\n",
    "다음은 폴더블 폰의 힌지에 들어가는 스프링 내구력을 테스트한 실험 결과이다. \n",
    "\n",
    "스프링 측정값과 스프링에 가한 부하 정보와 함께, 테스트 통과/실패 (failure) 결과가 기재되어 있다. \n",
    "\n",
    "개발부서는 테스트 비용을 줄이기 위해 failure 여부를 맞추는 모델을 만들고자 한다.\n",
    "\n",
    "변수명은 보안을 위해 measurement_0과 같이 익명화되었다.\n",
    "\n",
    "데이터 구성\n",
    "\n",
    "학습데이터: train_prob.csv, 21,458 rows, 25 columns\n",
    "\n",
    "테스트데이터: test_prob.csv, 5,112 rows, 24 columns, \n",
    "\n",
    "테스트정답셋: test_prob_ans.csv, 5,112 rows, 1 columns\n",
    "\n",
    "\n",
    "컬럼명\t설명\t타입\n",
    "\n",
    "|변수명|설명|타입|\n",
    "|--|--------------|------|\n",
    "|id|실험 고유 번호|정수형|\n",
    "|product_code|스프링 코드|범주형|\n",
    "|loading|스프링에 가한 부하|실수형|\n",
    "|attribute_0|구성 소재1|범주형|\n",
    "|attribute_1|구성 소재2|범주형|\n",
    "|attribute_2|구성 소재3|정수형|\n",
    "|attribute_3|구성 소재4|정수형|\n",
    "|measurement_0 ~ 17|측정값 0~17|실수형|\n",
    "|failure|성공여부|이진형(0, 1)|\n"
   ]
  },
  {
   "cell_type": "markdown",
   "id": "b80d1407",
   "metadata": {},
   "source": [
    "# 전처리(Preprocessing)\n",
    "\n",
    "train_prob.csv를 불러 온다. 이를 basetable이리고 한다."
   ]
  },
  {
   "cell_type": "code",
   "execution_count": 3,
   "id": "15ebc269",
   "metadata": {},
   "outputs": [
    {
     "data": {
      "text/html": [
       "<div>\n",
       "<style scoped>\n",
       "    .dataframe tbody tr th:only-of-type {\n",
       "        vertical-align: middle;\n",
       "    }\n",
       "\n",
       "    .dataframe tbody tr th {\n",
       "        vertical-align: top;\n",
       "    }\n",
       "\n",
       "    .dataframe thead th {\n",
       "        text-align: right;\n",
       "    }\n",
       "</style>\n",
       "<table border=\"1\" class=\"dataframe\">\n",
       "  <thead>\n",
       "    <tr style=\"text-align: right;\">\n",
       "      <th></th>\n",
       "      <th>product_code</th>\n",
       "      <th>loading</th>\n",
       "      <th>attribute_0</th>\n",
       "      <th>attribute_1</th>\n",
       "      <th>attribute_2</th>\n",
       "      <th>attribute_3</th>\n",
       "      <th>measurement_0</th>\n",
       "      <th>measurement_1</th>\n",
       "      <th>measurement_2</th>\n",
       "      <th>measurement_3</th>\n",
       "      <th>...</th>\n",
       "      <th>measurement_9</th>\n",
       "      <th>measurement_10</th>\n",
       "      <th>measurement_11</th>\n",
       "      <th>measurement_12</th>\n",
       "      <th>measurement_13</th>\n",
       "      <th>measurement_14</th>\n",
       "      <th>measurement_15</th>\n",
       "      <th>measurement_16</th>\n",
       "      <th>measurement_17</th>\n",
       "      <th>failure</th>\n",
       "    </tr>\n",
       "    <tr>\n",
       "      <th>id</th>\n",
       "      <th></th>\n",
       "      <th></th>\n",
       "      <th></th>\n",
       "      <th></th>\n",
       "      <th></th>\n",
       "      <th></th>\n",
       "      <th></th>\n",
       "      <th></th>\n",
       "      <th></th>\n",
       "      <th></th>\n",
       "      <th></th>\n",
       "      <th></th>\n",
       "      <th></th>\n",
       "      <th></th>\n",
       "      <th></th>\n",
       "      <th></th>\n",
       "      <th></th>\n",
       "      <th></th>\n",
       "      <th></th>\n",
       "      <th></th>\n",
       "      <th></th>\n",
       "    </tr>\n",
       "  </thead>\n",
       "  <tbody>\n",
       "    <tr>\n",
       "      <td>0</td>\n",
       "      <td>A</td>\n",
       "      <td>80.10</td>\n",
       "      <td>material_7</td>\n",
       "      <td>material_8</td>\n",
       "      <td>9</td>\n",
       "      <td>5</td>\n",
       "      <td>7</td>\n",
       "      <td>8</td>\n",
       "      <td>4</td>\n",
       "      <td>18.040</td>\n",
       "      <td>...</td>\n",
       "      <td>10.672</td>\n",
       "      <td>15.859</td>\n",
       "      <td>17.594</td>\n",
       "      <td>15.193</td>\n",
       "      <td>15.029</td>\n",
       "      <td>NaN</td>\n",
       "      <td>13.034</td>\n",
       "      <td>14.684</td>\n",
       "      <td>764.100</td>\n",
       "      <td>0</td>\n",
       "    </tr>\n",
       "    <tr>\n",
       "      <td>1</td>\n",
       "      <td>A</td>\n",
       "      <td>84.89</td>\n",
       "      <td>material_7</td>\n",
       "      <td>material_8</td>\n",
       "      <td>9</td>\n",
       "      <td>5</td>\n",
       "      <td>14</td>\n",
       "      <td>3</td>\n",
       "      <td>3</td>\n",
       "      <td>18.213</td>\n",
       "      <td>...</td>\n",
       "      <td>12.448</td>\n",
       "      <td>17.947</td>\n",
       "      <td>17.915</td>\n",
       "      <td>11.755</td>\n",
       "      <td>14.732</td>\n",
       "      <td>15.425</td>\n",
       "      <td>14.395</td>\n",
       "      <td>15.631</td>\n",
       "      <td>682.057</td>\n",
       "      <td>0</td>\n",
       "    </tr>\n",
       "    <tr>\n",
       "      <td>2</td>\n",
       "      <td>A</td>\n",
       "      <td>82.43</td>\n",
       "      <td>material_7</td>\n",
       "      <td>material_8</td>\n",
       "      <td>9</td>\n",
       "      <td>5</td>\n",
       "      <td>12</td>\n",
       "      <td>1</td>\n",
       "      <td>5</td>\n",
       "      <td>18.057</td>\n",
       "      <td>...</td>\n",
       "      <td>12.715</td>\n",
       "      <td>15.607</td>\n",
       "      <td>NaN</td>\n",
       "      <td>13.798</td>\n",
       "      <td>16.711</td>\n",
       "      <td>18.631</td>\n",
       "      <td>14.094</td>\n",
       "      <td>17.946</td>\n",
       "      <td>663.376</td>\n",
       "      <td>0</td>\n",
       "    </tr>\n",
       "    <tr>\n",
       "      <td>3</td>\n",
       "      <td>A</td>\n",
       "      <td>101.07</td>\n",
       "      <td>material_7</td>\n",
       "      <td>material_8</td>\n",
       "      <td>9</td>\n",
       "      <td>5</td>\n",
       "      <td>13</td>\n",
       "      <td>2</td>\n",
       "      <td>6</td>\n",
       "      <td>17.295</td>\n",
       "      <td>...</td>\n",
       "      <td>12.471</td>\n",
       "      <td>16.346</td>\n",
       "      <td>18.377</td>\n",
       "      <td>10.020</td>\n",
       "      <td>15.250</td>\n",
       "      <td>15.562</td>\n",
       "      <td>16.154</td>\n",
       "      <td>17.172</td>\n",
       "      <td>826.282</td>\n",
       "      <td>0</td>\n",
       "    </tr>\n",
       "    <tr>\n",
       "      <td>4</td>\n",
       "      <td>A</td>\n",
       "      <td>188.06</td>\n",
       "      <td>material_7</td>\n",
       "      <td>material_8</td>\n",
       "      <td>9</td>\n",
       "      <td>5</td>\n",
       "      <td>9</td>\n",
       "      <td>2</td>\n",
       "      <td>8</td>\n",
       "      <td>19.346</td>\n",
       "      <td>...</td>\n",
       "      <td>10.337</td>\n",
       "      <td>17.082</td>\n",
       "      <td>19.932</td>\n",
       "      <td>12.428</td>\n",
       "      <td>16.182</td>\n",
       "      <td>12.760</td>\n",
       "      <td>13.153</td>\n",
       "      <td>16.412</td>\n",
       "      <td>579.885</td>\n",
       "      <td>0</td>\n",
       "    </tr>\n",
       "  </tbody>\n",
       "</table>\n",
       "<p>5 rows × 25 columns</p>\n",
       "</div>"
      ],
      "text/plain": [
       "   product_code  loading attribute_0 attribute_1  attribute_2  attribute_3  \\\n",
       "id                                                                           \n",
       "0             A    80.10  material_7  material_8            9            5   \n",
       "1             A    84.89  material_7  material_8            9            5   \n",
       "2             A    82.43  material_7  material_8            9            5   \n",
       "3             A   101.07  material_7  material_8            9            5   \n",
       "4             A   188.06  material_7  material_8            9            5   \n",
       "\n",
       "    measurement_0  measurement_1  measurement_2  measurement_3  ...  \\\n",
       "id                                                              ...   \n",
       "0               7              8              4         18.040  ...   \n",
       "1              14              3              3         18.213  ...   \n",
       "2              12              1              5         18.057  ...   \n",
       "3              13              2              6         17.295  ...   \n",
       "4               9              2              8         19.346  ...   \n",
       "\n",
       "    measurement_9  measurement_10  measurement_11  measurement_12  \\\n",
       "id                                                                  \n",
       "0          10.672          15.859          17.594          15.193   \n",
       "1          12.448          17.947          17.915          11.755   \n",
       "2          12.715          15.607             NaN          13.798   \n",
       "3          12.471          16.346          18.377          10.020   \n",
       "4          10.337          17.082          19.932          12.428   \n",
       "\n",
       "    measurement_13  measurement_14  measurement_15  measurement_16  \\\n",
       "id                                                                   \n",
       "0           15.029             NaN          13.034          14.684   \n",
       "1           14.732          15.425          14.395          15.631   \n",
       "2           16.711          18.631          14.094          17.946   \n",
       "3           15.250          15.562          16.154          17.172   \n",
       "4           16.182          12.760          13.153          16.412   \n",
       "\n",
       "    measurement_17  failure  \n",
       "id                           \n",
       "0          764.100        0  \n",
       "1          682.057        0  \n",
       "2          663.376        0  \n",
       "3          826.282        0  \n",
       "4          579.885        0  \n",
       "\n",
       "[5 rows x 25 columns]"
      ]
     },
     "metadata": {},
     "output_type": "display_data"
    },
    {
     "name": "stdout",
     "output_type": "stream",
     "text": [
      "<class 'pandas.core.frame.DataFrame'>\n",
      "Int64Index: 21458 entries, 0 to 26569\n",
      "Data columns (total 25 columns):\n",
      "product_code      21458 non-null object\n",
      "loading           21257 non-null float64\n",
      "attribute_0       21458 non-null object\n",
      "attribute_1       21458 non-null object\n",
      "attribute_2       21458 non-null int64\n",
      "attribute_3       21458 non-null int64\n",
      "measurement_0     21458 non-null int64\n",
      "measurement_1     21458 non-null int64\n",
      "measurement_2     21458 non-null int64\n",
      "measurement_3     21146 non-null float64\n",
      "measurement_4     21016 non-null float64\n",
      "measurement_5     20893 non-null float64\n",
      "measurement_6     20818 non-null float64\n",
      "measurement_7     20692 non-null float64\n",
      "measurement_8     20605 non-null float64\n",
      "measurement_9     20469 non-null float64\n",
      "measurement_10    20399 non-null float64\n",
      "measurement_11    20278 non-null float64\n",
      "measurement_12    20171 non-null float64\n",
      "measurement_13    20063 non-null float64\n",
      "measurement_14    19976 non-null float64\n",
      "measurement_15    19855 non-null float64\n",
      "measurement_16    19750 non-null float64\n",
      "measurement_17    19640 non-null float64\n",
      "failure           21458 non-null int64\n",
      "dtypes: float64(16), int64(6), object(3)\n",
      "memory usage: 4.3+ MB\n"
     ]
    }
   ],
   "source": [
    "# 고유값인 id를 인덱스에 위치 시킵니다.\n",
    "df_basetable = pd.read_csv('train_prob.csv', index_col=['id'])\n",
    "display(df_basetable.head())\n",
    "df_basetable.info()"
   ]
  },
  {
   "cell_type": "markdown",
   "id": "11f35976",
   "metadata": {},
   "source": [
    "# 단계 1\n",
    "\n",
    "basetable에 measurement_3 ~17 각각의 행이 결측인지 나타내는 파생 변수를 만든다. \n",
    "\n",
    "파생 변수는 이진 형식이고, False는 미결측 True는 결측을 의미한다. \n",
    "\n",
    "파생 변수의 이름은 measurement 번호에 따라 isna_3 ~ 17로 한다. "
   ]
  },
  {
   "cell_type": "code",
   "execution_count": 4,
   "id": "9d8bd808",
   "metadata": {},
   "outputs": [],
   "source": [
    "df_basetable[['isna_{}'.format(i) for i in range(3, 18)]] = \\\n",
    "    df_basetable[['measurement_{}'.format(i) for i in range(3, 18)]].isna()"
   ]
  },
  {
   "cell_type": "code",
   "execution_count": 5,
   "id": "b404906f",
   "metadata": {},
   "outputs": [
    {
     "data": {
      "text/html": [
       "<div>\n",
       "<style scoped>\n",
       "    .dataframe tbody tr th:only-of-type {\n",
       "        vertical-align: middle;\n",
       "    }\n",
       "\n",
       "    .dataframe tbody tr th {\n",
       "        vertical-align: top;\n",
       "    }\n",
       "\n",
       "    .dataframe thead th {\n",
       "        text-align: right;\n",
       "    }\n",
       "</style>\n",
       "<table border=\"1\" class=\"dataframe\">\n",
       "  <thead>\n",
       "    <tr style=\"text-align: right;\">\n",
       "      <th></th>\n",
       "      <th>isna_3</th>\n",
       "      <th>isna_4</th>\n",
       "      <th>isna_5</th>\n",
       "      <th>isna_6</th>\n",
       "      <th>isna_7</th>\n",
       "      <th>isna_8</th>\n",
       "      <th>isna_9</th>\n",
       "      <th>isna_10</th>\n",
       "      <th>isna_11</th>\n",
       "      <th>isna_12</th>\n",
       "      <th>isna_13</th>\n",
       "      <th>isna_14</th>\n",
       "      <th>isna_15</th>\n",
       "      <th>isna_16</th>\n",
       "      <th>isna_17</th>\n",
       "    </tr>\n",
       "  </thead>\n",
       "  <tbody>\n",
       "    <tr>\n",
       "      <td>0</td>\n",
       "      <td>312</td>\n",
       "      <td>442</td>\n",
       "      <td>565</td>\n",
       "      <td>640</td>\n",
       "      <td>766</td>\n",
       "      <td>853</td>\n",
       "      <td>989</td>\n",
       "      <td>1059</td>\n",
       "      <td>1180</td>\n",
       "      <td>1287</td>\n",
       "      <td>1395</td>\n",
       "      <td>1482</td>\n",
       "      <td>1603</td>\n",
       "      <td>1708</td>\n",
       "      <td>1818</td>\n",
       "    </tr>\n",
       "  </tbody>\n",
       "</table>\n",
       "</div>"
      ],
      "text/plain": [
       "   isna_3  isna_4  isna_5  isna_6  isna_7  isna_8  isna_9  isna_10  isna_11  \\\n",
       "0     312     442     565     640     766     853     989     1059     1180   \n",
       "\n",
       "   isna_12  isna_13  isna_14  isna_15  isna_16  isna_17  \n",
       "0     1287     1395     1482     1603     1708     1818  "
      ]
     },
     "execution_count": 5,
     "metadata": {},
     "output_type": "execute_result"
    }
   ],
   "source": [
    "df_basetable[['isna_{}'.format(i) for i in range(3, 18)]].sum().to_frame().T"
   ]
  },
  {
   "cell_type": "markdown",
   "id": "3173737d",
   "metadata": {},
   "source": [
    "## 단계 2\n",
    "\n",
    "이 과제를 맡은 데이터분석가 지희는 measurement_3~17의 결측치 처리 방안을 고민하던 중, \n",
    "\n",
    "개발부서에서 measurement_17은 product_code별로 failure를 예측하기 위해 \n",
    "\n",
    "measurement_3 ~ measurement_9을 다음과 같이 선형 조합하여 생성한 값이라는 정보를 받았다. \n",
    "\n",
    "$measurement_{17}= \\beta_{0} + \\beta_{3}measurement_{3}+\\beta_{4}measurement_{4}+...+\\beta_{9}measurement_{9}$\n",
    "\n",
    "이는 즉,\n",
    "\n",
    "$measurement_{3}= \\beta'_{0} + \\beta'_{4}measurement_{4}+\\beta'_{5}measurement_{5}+...+\\beta'_{9}measurement_{9} + \\beta'_{17}measurement_{17}$\n",
    "\n",
    "...\n",
    "\n",
    "$measurement_{9}= \\beta''_{0} + \\beta''_{3}measurement_{3}+\\beta''_{4}measurement_{4}+...+\\beta''_{8}measurement_{8}+\\beta''_{17}measurement_{17}$\n",
    "\n",
    "와 같이 measurement_3 ~ measurement_9의 각 변수들도 나머지 변수들과 선형 관계를 지닌다. \n",
    "\n",
    "이 점을 이용하여 대상 변수를 번갈아 가면서 예측 모델을 만들어 최대한 원래 값에 가깝게 복원할 수 있다. \n",
    "\n",
    "이러한 반복적인 결측치 복원 방법을 사내 데이터분석 연구소에 문의 했더니 다음과 같은 가이드를 주었다. \n",
    "\n",
    "> sklearn 모듈에 아직은 실험 단계이지만, 비슷한 경우에 문제 없이 사용했던 사례가 있어 의견을 드립니다. \n",
    "\n",
    "> from sklearn.experimental import enable_iterative_imputer 구문을 사용하여 실험 단계인 모듈을 활성화하고, \n",
    "\n",
    "> sklearn.impute.IterativeImputer를 사용한다면 원하는 결과를 얻을 수 있습니다.\n",
    "\n",
    "가이드의 내용을 참조하여 basetable의 measurement_3~9와 measurement_17 결측치를 복원하라.\n",
    "\n",
    "\n",
    "입력 변수] measurement_3 ~ 9, measurement_17 (입력 변수 순서에 유의)\n",
    "\n",
    "---\n",
    "**함수가이드**\n",
    "\n",
    "sklearn.experimental.enable_iterative_imputer\n",
    "\n",
    "sklearn.impute.IterativeImputer, random_state=123\n",
    "\n",
    "sklearn.linear_model.LinearRegression\n",
    "\n",
    "문제 지시사항 외 Default 값 사용\n",
    "\n",
    "---\n"
   ]
  },
  {
   "cell_type": "code",
   "execution_count": 6,
   "id": "a94de17c",
   "metadata": {},
   "outputs": [],
   "source": [
    "# 방법 1: product_code 별로 IterativeImputer를 학습시키고, product_code 별로 결측을 처리합니다.\n",
    "\n",
    "from sklearn.experimental import enable_iterative_imputer\n",
    "from sklearn.impute import IterativeImputer\n",
    "from sklearn.linear_model import LinearRegression\n",
    "\n",
    "X_imp = ['measurement_{}'.format(i) for i in range(3, 10)] + ['measurement_17']\n",
    "\n",
    "# 결측치 처리 모델을 생성 시킵니다.\n",
    "def create_imp():\n",
    "    return IterativeImputer(\n",
    "        estimator = LinearRegression(),\n",
    "        random_state=123\n",
    "    )\n",
    "\n",
    "# product_code 별로 모델을 **생성**시키고, 모델을 학습시킵니다.\n",
    "s_imp = df_basetable.groupby('product_code')[X_imp].apply(\n",
    "    lambda x: create_imp().fit(x)\n",
    ")\n",
    "\n",
    "# apply의 lambda x: 에서 넘겨주는 DataFrame의 .name attribute에는 해당 product_code 값이 있습니다.\n",
    "# 이를 활용하여 s_imp에 있는 모델을 가져옵니다.\n",
    "# apply에서 transform에서 numpy array를 넘겨 주므로, \n",
    "# DataFrame을 만들어 반환시켜주면,\n",
    "# apply에서 DataFrame으로 재구성하여 넘겨줍니다.\n",
    "# 모델을 적용하여 결측이 처리된 데이터프레임을 만듭니다.\n",
    "df_basetable[X_imp] = df_basetable.groupby('product_code')[X_imp].apply(\n",
    "    lambda x: pd.DataFrame(s_imp.loc[x.name].transform(x), index=x.index, columns=x.columns)\n",
    ")\n",
    "#df_basetable[X_imp] = imp.fit_transform(df_basetable[X_imp])"
   ]
  },
  {
   "cell_type": "code",
   "execution_count": 7,
   "id": "7367d577",
   "metadata": {},
   "outputs": [],
   "source": [
    "# 방법 2: product_code 별로 IterativeImputer를 통한 결측처리를 하고 바로 적용합니다.\n",
    "\n",
    "imp = IterativeImputer(\n",
    "    estimator = LinearRegression(),\n",
    "    random_state=123\n",
    ")\n",
    "\n",
    "df_basetable[X_imp] =  df_basetable.groupby('product_code')[X_imp].apply(\n",
    "    lambda x: pd.DataFrame(imp.fit_transform(x), index=x.index, columns=x.columns)\n",
    ")"
   ]
  },
  {
   "cell_type": "code",
   "execution_count": 8,
   "id": "c977a0a0",
   "metadata": {},
   "outputs": [],
   "source": [
    "# 방법 3: 반복문을 통한 방법입니다.\n",
    "\n",
    "imp = IterativeImputer(\n",
    "    estimator = LinearRegression(),\n",
    "    random_state=123\n",
    ")\n",
    "\n",
    "for i in df_basetable['product_code'].unique():\n",
    "    s_idx = df_basetable['product_code'] == i\n",
    "    # 값을 대입할 때, 대입에 대상이 되는 데이터프레임을\n",
    "    # df_basetable.loc[s_idx][X_imp] 이런식으로 filtering -> 컬럼선택 2단계로 할 경우 reference 경고를 받게 됩니다.\n",
    "    # df_basetable.loc[s_idx, X_imp] filtering과 columns 선택을 하여 중간에 reference DataFrame 없이 처리하도록 합니다.\n",
    "    df_basetable.loc[s_idx, X_imp] = imp.fit_transform(df_basetable.loc[s_idx, X_imp])"
   ]
  },
  {
   "cell_type": "markdown",
   "id": "c95edba8",
   "metadata": {},
   "source": [
    "## 단계 3\n",
    "\n",
    "measurement_10~16까지의 결측치는 모두 product_code별 평균으로 대치한다."
   ]
  },
  {
   "cell_type": "code",
   "execution_count": 9,
   "id": "0bea1389",
   "metadata": {},
   "outputs": [],
   "source": [
    "# 방법 1: groupby ~ transform\n",
    "# Transform을 통해 수준별 평균으로 1:1 변환된 값으로 구성된 DataFrame을 받아서, \n",
    "# 각각의 요소별로 결측이면 해당값으로 치환되게 구성합니다.\n",
    "X_mean = ['measurement_{}'.format(i) for i in range(10, 17)]\n",
    "df_basetable[X_mean] = df_basetable.groupby('product_code')[X_mean]\\\n",
    "        .transform(lambda x: x.fillna(x.mean()))"
   ]
  },
  {
   "cell_type": "code",
   "execution_count": 10,
   "id": "2cae0d1a",
   "metadata": {},
   "outputs": [
    {
     "data": {
      "text/html": [
       "<div>\n",
       "<style scoped>\n",
       "    .dataframe tbody tr th:only-of-type {\n",
       "        vertical-align: middle;\n",
       "    }\n",
       "\n",
       "    .dataframe tbody tr th {\n",
       "        vertical-align: top;\n",
       "    }\n",
       "\n",
       "    .dataframe thead th {\n",
       "        text-align: right;\n",
       "    }\n",
       "</style>\n",
       "<table border=\"1\" class=\"dataframe\">\n",
       "  <thead>\n",
       "    <tr style=\"text-align: right;\">\n",
       "      <th></th>\n",
       "      <th>measurement_10</th>\n",
       "      <th>measurement_11</th>\n",
       "      <th>measurement_12</th>\n",
       "      <th>measurement_13</th>\n",
       "      <th>measurement_14</th>\n",
       "      <th>measurement_15</th>\n",
       "      <th>measurement_16</th>\n",
       "    </tr>\n",
       "    <tr>\n",
       "      <th>id</th>\n",
       "      <th></th>\n",
       "      <th></th>\n",
       "      <th></th>\n",
       "      <th></th>\n",
       "      <th></th>\n",
       "      <th></th>\n",
       "      <th></th>\n",
       "    </tr>\n",
       "  </thead>\n",
       "  <tbody>\n",
       "    <tr>\n",
       "      <td>0</td>\n",
       "      <td>15.859</td>\n",
       "      <td>17.594000</td>\n",
       "      <td>15.193</td>\n",
       "      <td>15.029</td>\n",
       "      <td>16.110886</td>\n",
       "      <td>13.034</td>\n",
       "      <td>14.684000</td>\n",
       "    </tr>\n",
       "    <tr>\n",
       "      <td>1</td>\n",
       "      <td>17.947</td>\n",
       "      <td>17.915000</td>\n",
       "      <td>11.755</td>\n",
       "      <td>14.732</td>\n",
       "      <td>15.425000</td>\n",
       "      <td>14.395</td>\n",
       "      <td>15.631000</td>\n",
       "    </tr>\n",
       "    <tr>\n",
       "      <td>2</td>\n",
       "      <td>15.607</td>\n",
       "      <td>19.439558</td>\n",
       "      <td>13.798</td>\n",
       "      <td>16.711</td>\n",
       "      <td>18.631000</td>\n",
       "      <td>14.094</td>\n",
       "      <td>17.946000</td>\n",
       "    </tr>\n",
       "    <tr>\n",
       "      <td>3</td>\n",
       "      <td>16.346</td>\n",
       "      <td>18.377000</td>\n",
       "      <td>10.020</td>\n",
       "      <td>15.250</td>\n",
       "      <td>15.562000</td>\n",
       "      <td>16.154</td>\n",
       "      <td>17.172000</td>\n",
       "    </tr>\n",
       "    <tr>\n",
       "      <td>4</td>\n",
       "      <td>17.082</td>\n",
       "      <td>19.932000</td>\n",
       "      <td>12.428</td>\n",
       "      <td>16.182</td>\n",
       "      <td>12.760000</td>\n",
       "      <td>13.153</td>\n",
       "      <td>16.412000</td>\n",
       "    </tr>\n",
       "    <tr>\n",
       "      <td>...</td>\n",
       "      <td>...</td>\n",
       "      <td>...</td>\n",
       "      <td>...</td>\n",
       "      <td>...</td>\n",
       "      <td>...</td>\n",
       "      <td>...</td>\n",
       "      <td>...</td>\n",
       "    </tr>\n",
       "    <tr>\n",
       "      <td>26565</td>\n",
       "      <td>12.177</td>\n",
       "      <td>17.942000</td>\n",
       "      <td>10.112</td>\n",
       "      <td>15.795</td>\n",
       "      <td>18.572000</td>\n",
       "      <td>16.144</td>\n",
       "      <td>16.066552</td>\n",
       "    </tr>\n",
       "    <tr>\n",
       "      <td>26566</td>\n",
       "      <td>14.179</td>\n",
       "      <td>20.564000</td>\n",
       "      <td>10.234</td>\n",
       "      <td>14.450</td>\n",
       "      <td>14.322000</td>\n",
       "      <td>13.146</td>\n",
       "      <td>16.471000</td>\n",
       "    </tr>\n",
       "    <tr>\n",
       "      <td>26567</td>\n",
       "      <td>16.437</td>\n",
       "      <td>17.476000</td>\n",
       "      <td>8.668</td>\n",
       "      <td>15.069</td>\n",
       "      <td>16.599000</td>\n",
       "      <td>15.590</td>\n",
       "      <td>14.065000</td>\n",
       "    </tr>\n",
       "    <tr>\n",
       "      <td>26568</td>\n",
       "      <td>17.064</td>\n",
       "      <td>17.814000</td>\n",
       "      <td>14.928</td>\n",
       "      <td>16.273</td>\n",
       "      <td>15.485000</td>\n",
       "      <td>13.624</td>\n",
       "      <td>12.865000</td>\n",
       "    </tr>\n",
       "    <tr>\n",
       "      <td>26569</td>\n",
       "      <td>15.603</td>\n",
       "      <td>19.703000</td>\n",
       "      <td>11.006</td>\n",
       "      <td>15.875</td>\n",
       "      <td>13.366000</td>\n",
       "      <td>16.527</td>\n",
       "      <td>17.890000</td>\n",
       "    </tr>\n",
       "  </tbody>\n",
       "</table>\n",
       "<p>21458 rows × 7 columns</p>\n",
       "</div>"
      ],
      "text/plain": [
       "       measurement_10  measurement_11  measurement_12  measurement_13  \\\n",
       "id                                                                      \n",
       "0              15.859       17.594000          15.193          15.029   \n",
       "1              17.947       17.915000          11.755          14.732   \n",
       "2              15.607       19.439558          13.798          16.711   \n",
       "3              16.346       18.377000          10.020          15.250   \n",
       "4              17.082       19.932000          12.428          16.182   \n",
       "...               ...             ...             ...             ...   \n",
       "26565          12.177       17.942000          10.112          15.795   \n",
       "26566          14.179       20.564000          10.234          14.450   \n",
       "26567          16.437       17.476000           8.668          15.069   \n",
       "26568          17.064       17.814000          14.928          16.273   \n",
       "26569          15.603       19.703000          11.006          15.875   \n",
       "\n",
       "       measurement_14  measurement_15  measurement_16  \n",
       "id                                                     \n",
       "0           16.110886          13.034       14.684000  \n",
       "1           15.425000          14.395       15.631000  \n",
       "2           18.631000          14.094       17.946000  \n",
       "3           15.562000          16.154       17.172000  \n",
       "4           12.760000          13.153       16.412000  \n",
       "...               ...             ...             ...  \n",
       "26565       18.572000          16.144       16.066552  \n",
       "26566       14.322000          13.146       16.471000  \n",
       "26567       16.599000          15.590       14.065000  \n",
       "26568       15.485000          13.624       12.865000  \n",
       "26569       13.366000          16.527       17.890000  \n",
       "\n",
       "[21458 rows x 7 columns]"
      ]
     },
     "execution_count": 10,
     "metadata": {},
     "output_type": "execute_result"
    }
   ],
   "source": [
    "# 방법 2: groupby ~ apply\n",
    "# apply 사용후 groupby에 의해 구분된 수준이 불필요(1:1 변환작업이라는 점에서)하게 index에 붙을 수가 있습니다.\n",
    "# 이 때는 DataFrame에 index를 지정하여 반환시키면 없앨 수 있습니다.\n",
    "df_basetable.groupby('product_code')[X_mean].apply(\n",
    "    lambda x: pd.DataFrame(x.fillna(x.mean()), index=x.index)\n",
    ")"
   ]
  },
  {
   "cell_type": "markdown",
   "id": "d62884d7",
   "metadata": {},
   "source": [
    "Hint] 전처리 단계에서 보간 결과를 확인해 보기 위한 각 변수의 평균과 표본표준편차.\n",
    "\n",
    "| |3|4|5|6|7|8|9|10|11|12|13|14|15|16|17|\n",
    "|-|-|-|-|-|-|-|-|--|--|--|--|--|--|--|--|\n",
    "|mean|17.796|11.736|17.131|17.506|11.719|19.022|11.434|16.034|19.194|11.734|15.666|16.033|15.051|16.398|701.768|\n",
    "|std|0.997|0.994|0.994|0.992|0.993|1.005|0.997|1.278|1.579|1.433|1.149|1.461|1.478|1.671|119.180|\n",
    "\n",
    "열의 이름의 숫자는 measurement_ 번호, 값은 소수점 3째 자리까지 반올림"
   ]
  },
  {
   "cell_type": "code",
   "execution_count": 11,
   "id": "0ff22f9e",
   "metadata": {},
   "outputs": [
    {
     "data": {
      "text/html": [
       "<div>\n",
       "<style scoped>\n",
       "    .dataframe tbody tr th:only-of-type {\n",
       "        vertical-align: middle;\n",
       "    }\n",
       "\n",
       "    .dataframe tbody tr th {\n",
       "        vertical-align: top;\n",
       "    }\n",
       "\n",
       "    .dataframe thead th {\n",
       "        text-align: right;\n",
       "    }\n",
       "</style>\n",
       "<table border=\"1\" class=\"dataframe\">\n",
       "  <thead>\n",
       "    <tr style=\"text-align: right;\">\n",
       "      <th></th>\n",
       "      <th>3</th>\n",
       "      <th>4</th>\n",
       "      <th>5</th>\n",
       "      <th>6</th>\n",
       "      <th>7</th>\n",
       "      <th>8</th>\n",
       "      <th>9</th>\n",
       "      <th>10</th>\n",
       "      <th>11</th>\n",
       "      <th>12</th>\n",
       "      <th>13</th>\n",
       "      <th>14</th>\n",
       "      <th>15</th>\n",
       "      <th>16</th>\n",
       "      <th>17</th>\n",
       "    </tr>\n",
       "  </thead>\n",
       "  <tbody>\n",
       "    <tr>\n",
       "      <td>mean</td>\n",
       "      <td>17.796</td>\n",
       "      <td>11.736</td>\n",
       "      <td>17.131</td>\n",
       "      <td>17.506</td>\n",
       "      <td>11.719</td>\n",
       "      <td>19.022</td>\n",
       "      <td>11.434</td>\n",
       "      <td>16.034</td>\n",
       "      <td>19.194</td>\n",
       "      <td>11.734</td>\n",
       "      <td>15.666</td>\n",
       "      <td>16.033</td>\n",
       "      <td>15.051</td>\n",
       "      <td>16.398</td>\n",
       "      <td>701.768</td>\n",
       "    </tr>\n",
       "    <tr>\n",
       "      <td>std</td>\n",
       "      <td>0.997</td>\n",
       "      <td>0.994</td>\n",
       "      <td>0.994</td>\n",
       "      <td>0.992</td>\n",
       "      <td>0.993</td>\n",
       "      <td>1.005</td>\n",
       "      <td>0.997</td>\n",
       "      <td>1.278</td>\n",
       "      <td>1.579</td>\n",
       "      <td>1.433</td>\n",
       "      <td>1.149</td>\n",
       "      <td>1.461</td>\n",
       "      <td>1.478</td>\n",
       "      <td>1.671</td>\n",
       "      <td>119.180</td>\n",
       "    </tr>\n",
       "  </tbody>\n",
       "</table>\n",
       "</div>"
      ],
      "text/plain": [
       "           3       4       5       6       7       8       9      10      11  \\\n",
       "mean  17.796  11.736  17.131  17.506  11.719  19.022  11.434  16.034  19.194   \n",
       "std    0.997   0.994   0.994   0.992   0.993   1.005   0.997   1.278   1.579   \n",
       "\n",
       "          12      13      14      15      16       17  \n",
       "mean  11.734  15.666  16.033  15.051  16.398  701.768  \n",
       "std    1.433   1.149   1.461   1.478   1.671  119.180  "
      ]
     },
     "execution_count": 11,
     "metadata": {},
     "output_type": "execute_result"
    }
   ],
   "source": [
    "df_basetable[['measurement_{}'.format(i) for i in range(3, 18)]].agg(['mean', 'std'])\\\n",
    "    .rename(columns=lambda x: x.split('_')[-1])\\\n",
    "    .round(3)"
   ]
  },
  {
   "cell_type": "markdown",
   "id": "218dab47",
   "metadata": {},
   "source": [
    "# 문제1\n",
    "\n",
    "(basetable을 사용) measurement_3~16까지 결측 여부가 failure에 영향이 있는지를 파악하고, \n",
    "\n",
    "failure를 분류하는 데 도움이 될 만한 것은 예측 모델의 입력 변수로 사용하고자 한다. \n",
    "\n",
    "이를 위해 전처리 과정에서 뽑아낸 isna_3~16을 활용한다.\n",
    "\n",
    "n이 3부터 16까지, 즉 measurement_3~16까지 다음의 검정을 수행한다. \n",
    "\n",
    "$H_0: P(failure=True|measurement_{n}=Missing)=P(failure=True)$\n",
    "\n",
    "$H_1: P(failure=True|measurement_{n}=Missing) \\neq P(failure=True)$\n",
    "\n",
    "모집단의 $P(failure=True) = 0.2114$\n"
   ]
  },
  {
   "cell_type": "code",
   "execution_count": null,
   "id": "9ed64b12",
   "metadata": {},
   "outputs": [],
   "source": []
  },
  {
   "cell_type": "markdown",
   "id": "91304a06",
   "metadata": {},
   "source": [
    "## 단계 1-1\n",
    "\n",
    "우선, measurement_3으로 위 검정을 시행해보자.\n",
    "\n",
    "$H_0: P(failure=True|isna_{3}=True)=0.2114$\n",
    "\n",
    "$H_1: P(failure=True|isna_{3}=True) \\neq 0.2114$\n",
    "\n",
    "으로 바꿀 수 있다.\n",
    "\n",
    "$P(failure=True|isna_{3}=True)$은 표본수가 충분하여 중심극한정리에 의해 정규분포를 따르는 것은 분석가 간에 이견이 없다고 한다. \n",
    "\n",
    "위 검정의 p-value를 구하여 보고 힌트에 주어진 p-value와 비교하여 검정 방법에 문제가 없음을 확인하라.\n",
    "\n",
    "---\n",
    "\n",
    "**함수 가이드**\n",
    "\n",
    " scipy.stats 에서 제공 기능 활용\n",
    " \n",
    " 문제 지시사항 외 Default 값 사용\n",
    " \n",
    "---\n",
    "\n",
    " Hint] p-value는 0.0037(소수점 다섯째 자리에서 반올림하여 넷째 자리까지 표시)\n"
   ]
  },
  {
   "cell_type": "code",
   "execution_count": 12,
   "id": "93b98c5b",
   "metadata": {},
   "outputs": [
    {
     "data": {
      "text/plain": [
       "(312, 0.14423076923076922, -2.905807189028007, 0.0036630709140241546)"
      ]
     },
     "execution_count": 12,
     "metadata": {},
     "output_type": "execute_result"
    }
   ],
   "source": [
    "from scipy.stats import norm\n",
    "\n",
    "# 모집단의 failure가 True인 비율(True = 1로 매칭한다면, 평균)\n",
    "P_true = 0.2114\n",
    "# 베르누이 분포의 성질을 이용하면, 모집단의 분산을 구할 수 있습니다. 분산 = p × (1 - p)\n",
    "P_var = P_true * (1 - P_true)\n",
    "\n",
    "# isna_3가 결측인 개수(표본수)\n",
    "n_sam = df_basetable['isna_3'].sum()\n",
    "# 표본의 평균은 모집단의 평균과 같습니다.\n",
    "P_sam_mean_mu = 0.2114\n",
    "# 표본의 평균의 분산은 = 모집단의 분산 / 표본수\n",
    "P_sam_mean_var = P_var / n_sam\n",
    "\n",
    "# 표본에서 관측한 비율(평균)을 구합니다.\n",
    "P_ob_sam_mean = df_basetable.loc[df_basetable['isna_3'], 'failure'].mean()\n",
    "\n",
    "# 검정통계량을 구합니다. \n",
    "# 양측 검증이라 적용의 편의성을 위해\n",
    "# 표준화 후 좌측 꼬리의 검정통계량을 구하기 위해, 절대값에 마이너스를 취합니다.\n",
    "Z = -abs((P_ob_sam_mean - P_sam_mean_mu) / (P_sam_mean_var ** 0.5))\n",
    "\n",
    "# 누적분포함수를 이용하여 좌측 꼬리 영역을 구하고 x 2 를 해주어 양쪽 영역을 구합니다.\n",
    "pvalue = norm.cdf(Z) * 2\n",
    "n_sam, P_ob_sam_mean, Z, pvalue"
   ]
  },
  {
   "cell_type": "code",
   "execution_count": 13,
   "id": "bdb434ef",
   "metadata": {},
   "outputs": [
    {
     "data": {
      "text/plain": [
       "(-2.905807189028007, 0.0036630709140241546)"
      ]
     },
     "execution_count": 13,
     "metadata": {},
     "output_type": "execute_result"
    }
   ],
   "source": [
    "from statsmodels.stats.proportion import proportions_ztest\n",
    "proportions_ztest(\n",
    "    df_basetable.loc[df_basetable['isna_3'], 'failure'].sum(), # positive(failure=True)인 빈도수\n",
    "    df_basetable['isna_3'].sum(), # 표본의 수\n",
    "    P_true, # 귀무가설에서 제시한 모집단의 비율\n",
    "    'two-sided', # 검정의 종류: 양측 검정\n",
    "    P_true # 베르누이 분포의 분산을 계산할 때의 비율 (모집단의 비율과 동일하게 설정합니다.)\n",
    ")"
   ]
  },
  {
   "cell_type": "code",
   "execution_count": 14,
   "id": "2dfc3a72",
   "metadata": {},
   "outputs": [
    {
     "data": {
      "image/png": "[encoded data removed]",
      "text/plain": [
       "<Figure size 640x480 with 1 Axes>"
      ]
     },
     "metadata": {},
     "output_type": "display_data"
    }
   ],
   "source": [
    "# 표준정규 분포를 이용한 pvalue 도출을 그래프로 설명해봅니다\n",
    "from scipy.stats import norm\n",
    "P_true = 0.2114\n",
    "col = 'isna_{}'.format(4)\n",
    "P_var = P_true * (1 - P_true)\n",
    "n_samples = df_basetable[col].sum()\n",
    "P_missing_true = df_basetable.loc[df_basetable[col], 'failure'].mean()\n",
    "P_missing_var = P_var / n_samples\n",
    "P_missing_std = P_missing_var ** 0.5\n",
    "\n",
    "stat = -abs((P_missing_true - P_true) / P_missing_std)\n",
    "\n",
    "plt.plot(np.linspace(-5, 5, 100), norm.pdf(np.linspace(-5, 5, 100)))\n",
    "plt.axvline(stat, color='red', linestyle='--')\n",
    "plt.text(stat, 0.03, str(stat)[:7])\n",
    "plt.axvline(-stat, color='red', linestyle='--')\n",
    "plt.text(-stat, 0.01, str(-stat)[:6])\n",
    "plt.fill_between(np.linspace(-5, stat, 100), np.zeros(shape=100),\n",
    "                norm.pdf(np.linspace(-5, stat, 100)), color='orange')\n",
    "plt.fill_between(np.linspace(-stat, 5, 100), np.zeros(shape=100),\n",
    "                norm.pdf(np.linspace(-stat, 5, 100)), color='orange')\n",
    "\n",
    "plt.show()"
   ]
  },
  {
   "cell_type": "markdown",
   "id": "91c87c44",
   "metadata": {},
   "source": [
    "## 단계 1-2\n",
    "\n",
    "measuremenet_3을 포함하여 measurement_4 ~ 16까지 위 검정을 반복하고 \n",
    "\n",
    "귀무가설을 기각할 수 있는 경우의 p-value의 합을 A라고 한다. (유의 수준은 5%로 한다.)"
   ]
  },
  {
   "cell_type": "code",
   "execution_count": 15,
   "id": "f49aa12e",
   "metadata": {},
   "outputs": [
    {
     "name": "stdout",
     "output_type": "stream",
     "text": [
      "isna_3 312 0.14423076923076922 -2.905807189028007 0.0036630709140241546\n",
      "isna_4 442 0.23755656108597284 -1.3468241702718833 0.17803686833140808\n",
      "isna_5 565 0.24955752212389382 -2.2213833417706925 0.026325008335499278\n",
      "isna_6 640 0.215625 -0.2617796136561279 0.793491357072205\n",
      "isna_7 766 0.2245430809399478 -0.8909035498642803 0.37298091572329806\n",
      "isna_8 853 0.20164126611957797 -0.6980509343383379 0.48514534123655306\n",
      "isna_9 989 0.21840242669362994 -0.5393439841397007 0.589649524697301\n",
      "isna_10 1059 0.22096317280453256 -0.7622002829475777 0.44594047726157915\n",
      "isna_11 1180 0.21016949152542372 -0.1035248797832757 0.9175464043670771\n",
      "isna_12 1287 0.21833721833721834 -0.6095281379895136 0.5421744277936988\n",
      "isna_13 1395 0.2064516129032258 -0.45265767845606597 0.6507952588133231\n",
      "isna_14 1482 0.21862348178137653 -0.681066949794218 0.49582912857498873\n",
      "isna_15 1603 0.2114784778540237 -0.0076954319495023404 0.9938599942603648\n",
      "isna_16 1708 0.2066744730679157 -0.4783142261813061 0.6324265724265041\n"
     ]
    },
    {
     "data": {
      "text/plain": [
       "([0.0036630709140241546, 0.026325008335499278],\n",
       " ['isna_3', 'isna_5'],\n",
       " 0.029988079249523434)"
      ]
     },
     "execution_count": 15,
     "metadata": {},
     "output_type": "execute_result"
    }
   ],
   "source": [
    "# 반복문을 통하여 나머지 변수에 대해서도 검정을 합니다.\n",
    "\n",
    "P_true = 0.2114\n",
    "P_var = P_true * (1 - P_true)\n",
    "\n",
    "pvalues = list()\n",
    "sel_cols = list()\n",
    "for i in range(3, 17):\n",
    "    na_col = 'isna_{}'.format(i)\n",
    "    n_sam = df_basetable[na_col].sum()\n",
    "    P_sam_mean_mu = 0.2114\n",
    "    P_sam_mean_var = P_var / n_sam\n",
    "\n",
    "    P_ob_sam_mean = df_basetable.loc[df_basetable[na_col], 'failure'].mean()\n",
    "\n",
    "    Z = -abs((P_ob_sam_mean - P_sam_mean_mu) / (P_sam_mean_var ** 0.5))\n",
    "    pvalue = norm.cdf(Z) * 2\n",
    "    print(na_col, n_sam, P_ob_sam_mean, Z, pvalue)\n",
    "    # 귀무가설을 기각할 수 있는지 확인합니다.(유의수준: 5%)\n",
    "    if pvalue < 0.05:\n",
    "        pvalues.append(pvalue)\n",
    "        sel_cols.append(na_col)\n",
    "A = np.sum(pvalues)\n",
    "pvalues, sel_cols, A"
   ]
  },
  {
   "cell_type": "markdown",
   "id": "a83a64eb",
   "metadata": {},
   "source": [
    "Q: 양쪽 검증을 할 때, 유의 수준의 절반 값과, pvalue의 절밥 값을 비교하는 건 왜인가요?\n",
    "\n",
    "A: 비대칭 분포의 양쪽 검증은 정확한 pvalue를 구할 수 없습니다.\n",
    "\n",
    "비대칭 분포를 사용하는 양측 검증은, 대칭 관계를 이용한 반대쪽 꼬리 영역을 구하는 방법이 성립하지 않으므로,  정확한 pvalue를 구할 수 없습니다. \n",
    "\n",
    "이 때에는 한 쪽만 pvalue를 구하여 절반의 영역에 해당하는 pvalue를 구하고, 유의 수준의 절반 값과 비교하여 가설 검정의 결론을 냅니다.\n",
    "\n",
    "**[Ex]**\n",
    "\n",
    "<div style=\"border: 1px solid #ddd; padding: 12px; margin-top: 10px\">\n",
    "\n",
    "신형 거리 계산기를 개발 중에 있습니다. \n",
    "\n",
    "신형 거리 계산기의 개발의 성공 기준은 100m 거리를 재었을 때를 기준으로 합니다.\n",
    "\n",
    "100m에서 거리를 측정 했을 때의 실험 결과가 아래와 같습니다. \n",
    "\n",
    "유의 수준을 5%로 했을 때 기존 거리 계산기 보다 분산이 같은지(귀무가설), 아니면 같지 않은지(대림가설) 판단해봅니다.\n",
    "\n",
    "기존 거리 계산기 기록\n",
    "```\n",
    "99.674, 100.299, 100.085, 99.548, 99.826, 100.495, 99.272, 99.871, 100.380, 99.740, \n",
    "99.796, 99.972, 100.447, 99.808, 99.867, 99.870, 100.662, 100.656, 100.301, 100.116, \n",
    "100.221, 100.447, 99.719, 100.353, 99.624, 99.809, 100.272, 99.571, 99.958, 99.741\n",
    "```\n",
    "\n",
    "신형 거리 계산기 기록\n",
    "\n",
    "```\n",
    "99.696, 100.279, 100.079, 99.578, 99.838, 100.462, 99.321, 99.880, 100.354, 99.757, \n",
    "99.810, 99.973, 100.418, 99.821, 99.876, 99.878, 100.618, 100.612, 100.281, 100.108, \n",
    "100.206, 100.417, 99.738, 100.329, 99.649, 99.821, 100.254, 99.600, 99.961, 99.759, \n",
    "99.928, 99.216, 99.504, 99.804, 100.260\n",
    "```\n",
    "    \n",
    "</div>\n",
    "\n",
    "$H_0: \\frac{\\sigma^2_1}{\\sigma^2_2} = 1$\n",
    "\n",
    "$H_1: \\frac{\\sigma^2_1}{\\sigma^2_2} \\ne 1$\n",
    "    \n",
    "$F=\\frac{S_1^2}{S_2^2} \\sim F(n_1-1, n_2-1)$\n",
    "\n",
    "**양측 검정** 입니다."
   ]
  },
  {
   "cell_type": "code",
   "execution_count": 3,
   "id": "8fd68845",
   "metadata": {},
   "outputs": [],
   "source": [
    "X1 = [\n",
    "    99.674, 100.299, 100.085, 99.548, 99.826, 100.495, 99.272, 99.871, 100.380, 99.740, \n",
    "    99.796, 99.972, 100.447, 99.808, 99.867, 99.870, 100.662, 100.656, 100.301, 100.116, \n",
    "    100.221, 100.447, 99.719, 100.353, 99.624, 99.809, 100.272, 99.571, 99.958, 99.741\n",
    "]\n",
    "\n",
    "X2 = [\n",
    "    99.696, 100.279, 100.079, 99.578, 99.838, 100.462, 99.321, 99.880, 100.354, 99.757, \n",
    "    99.810, 99.973, 100.418, 99.821, 99.876, 99.878, 100.618, 100.612, 100.281, 100.108, \n",
    "    100.206, 100.417, 99.738, 100.329, 99.649, 99.821, 100.254, 99.600, 99.961, 99.759, \n",
    "    99.928, 99.216, 99.504, 99.804, 100.260\n",
    "]\n",
    "\n",
    "S1_sq = np.var(X1, ddof=1)\n",
    "S2_sq = np.var(X2, ddof=1)\n",
    "\n",
    "n1 = len(X1)\n",
    "n2 = len(X2)"
   ]
  },
  {
   "cell_type": "code",
   "execution_count": 8,
   "id": "712a8547",
   "metadata": {},
   "outputs": [
    {
     "name": "stdout",
     "output_type": "stream",
     "text": [
      "검정통계량(F): 1.0379777993154704, pvalue/2: 0.45501804967354664\n"
     ]
    },
    {
     "data": {
      "image/png": "[encoded data removed]",
      "text/plain": [
       "<Figure size 640x480 with 1 Axes>"
      ]
     },
     "metadata": {},
     "output_type": "display_data"
    }
   ],
   "source": [
    "from scipy.stats import f\n",
    "\n",
    "F = S1_sq / S2_sq\n",
    "print(\"검정통계량(F): {}, pvalue/2: {}\".format(\n",
    "    F, \n",
    "    min(f.cdf(F, n1 - 1, n2 - 1), f.sf(F, n1 - 1, n2 - 1))) # 검정통계량에서 왼쪽, 오른쪽 꼬리중 작은 쪽의 꼬리 영역을 취합니다.\n",
    ")\n",
    "\n",
    "plt.plot(np.linspace(0, 3, 100), f.pdf(np.linspace(0, 3, 100), n1 - 1, n2 - 1))\n",
    "plt.axvline(F, color='red', linestyle='--')\n",
    "\n",
    "plt.fill_between(np.linspace(F, 3, 100), np.zeros(shape=100),\n",
    "                f.pdf(np.linspace(F, 3, 100), n1-1, n2-1), color='orange')\n",
    "plt.show()"
   ]
  },
  {
   "cell_type": "markdown",
   "id": "2a98dca2",
   "metadata": {},
   "source": [
    "위 Orange 영역은 0.5 미만의 확률 영역이고, 이는 양측 검정에 있어, 한 쪽 꼬리에 해당하는 영역입니다.\n",
    "\n",
    "비대칭 분포이므로, 대칭 분포 처럼 대칭 관계를 이용한 반대편 꼬리에 대한 통계량을 구할 수없어 정확한 pvalue를 구할 수 없습니다.\n",
    "\n",
    "전체 pvalue에서 한 쪽 꼬리 영역이 전체 pvalue/2이라고 어림잡을 수만 있습니다. \n",
    "\n",
    "이 때는 한 쪽 꼬리에 해당하는 확률을 구하여, 가설 검정은 유의 수준의 절반과 비교하여 결론을 냅니다.\n",
    "\n",
    "$ pvalue/2 \\sim 0.4550...  \\ge 0.05 / 2$ 이므로 귀무 가설을 기각할 수 없습니다. "
   ]
  },
  {
   "cell_type": "markdown",
   "id": "df03a86a",
   "metadata": {},
   "source": [
    "## 단계 1-3\n",
    "\n",
    "검정 결과 귀무가설을 기각할 수 있는 경우는 총 두 건이다. \n",
    "\n",
    "해당 파생 변수명의 뒷 자리 번호 순으로 na_1, na_2로 파생 변수를 만들어 prob1 데이터셋을 생성하라."
   ]
  },
  {
   "cell_type": "code",
   "execution_count": 16,
   "id": "207e8c39",
   "metadata": {},
   "outputs": [
    {
     "data": {
      "text/html": [
       "<div>\n",
       "<style scoped>\n",
       "    .dataframe tbody tr th:only-of-type {\n",
       "        vertical-align: middle;\n",
       "    }\n",
       "\n",
       "    .dataframe tbody tr th {\n",
       "        vertical-align: top;\n",
       "    }\n",
       "\n",
       "    .dataframe thead th {\n",
       "        text-align: right;\n",
       "    }\n",
       "</style>\n",
       "<table border=\"1\" class=\"dataframe\">\n",
       "  <thead>\n",
       "    <tr style=\"text-align: right;\">\n",
       "      <th></th>\n",
       "      <th>product_code</th>\n",
       "      <th>loading</th>\n",
       "      <th>attribute_0</th>\n",
       "      <th>attribute_1</th>\n",
       "      <th>attribute_2</th>\n",
       "      <th>attribute_3</th>\n",
       "      <th>measurement_0</th>\n",
       "      <th>measurement_1</th>\n",
       "      <th>measurement_2</th>\n",
       "      <th>measurement_3</th>\n",
       "      <th>...</th>\n",
       "      <th>isna_10</th>\n",
       "      <th>isna_11</th>\n",
       "      <th>isna_12</th>\n",
       "      <th>isna_13</th>\n",
       "      <th>isna_14</th>\n",
       "      <th>isna_15</th>\n",
       "      <th>isna_16</th>\n",
       "      <th>isna_17</th>\n",
       "      <th>na_1</th>\n",
       "      <th>na_2</th>\n",
       "    </tr>\n",
       "    <tr>\n",
       "      <th>id</th>\n",
       "      <th></th>\n",
       "      <th></th>\n",
       "      <th></th>\n",
       "      <th></th>\n",
       "      <th></th>\n",
       "      <th></th>\n",
       "      <th></th>\n",
       "      <th></th>\n",
       "      <th></th>\n",
       "      <th></th>\n",
       "      <th></th>\n",
       "      <th></th>\n",
       "      <th></th>\n",
       "      <th></th>\n",
       "      <th></th>\n",
       "      <th></th>\n",
       "      <th></th>\n",
       "      <th></th>\n",
       "      <th></th>\n",
       "      <th></th>\n",
       "      <th></th>\n",
       "    </tr>\n",
       "  </thead>\n",
       "  <tbody>\n",
       "    <tr>\n",
       "      <td>0</td>\n",
       "      <td>A</td>\n",
       "      <td>80.10</td>\n",
       "      <td>material_7</td>\n",
       "      <td>material_8</td>\n",
       "      <td>9</td>\n",
       "      <td>5</td>\n",
       "      <td>7</td>\n",
       "      <td>8</td>\n",
       "      <td>4</td>\n",
       "      <td>18.040</td>\n",
       "      <td>...</td>\n",
       "      <td>False</td>\n",
       "      <td>False</td>\n",
       "      <td>False</td>\n",
       "      <td>False</td>\n",
       "      <td>True</td>\n",
       "      <td>False</td>\n",
       "      <td>False</td>\n",
       "      <td>False</td>\n",
       "      <td>False</td>\n",
       "      <td>False</td>\n",
       "    </tr>\n",
       "    <tr>\n",
       "      <td>1</td>\n",
       "      <td>A</td>\n",
       "      <td>84.89</td>\n",
       "      <td>material_7</td>\n",
       "      <td>material_8</td>\n",
       "      <td>9</td>\n",
       "      <td>5</td>\n",
       "      <td>14</td>\n",
       "      <td>3</td>\n",
       "      <td>3</td>\n",
       "      <td>18.213</td>\n",
       "      <td>...</td>\n",
       "      <td>False</td>\n",
       "      <td>False</td>\n",
       "      <td>False</td>\n",
       "      <td>False</td>\n",
       "      <td>False</td>\n",
       "      <td>False</td>\n",
       "      <td>False</td>\n",
       "      <td>False</td>\n",
       "      <td>False</td>\n",
       "      <td>False</td>\n",
       "    </tr>\n",
       "    <tr>\n",
       "      <td>2</td>\n",
       "      <td>A</td>\n",
       "      <td>82.43</td>\n",
       "      <td>material_7</td>\n",
       "      <td>material_8</td>\n",
       "      <td>9</td>\n",
       "      <td>5</td>\n",
       "      <td>12</td>\n",
       "      <td>1</td>\n",
       "      <td>5</td>\n",
       "      <td>18.057</td>\n",
       "      <td>...</td>\n",
       "      <td>False</td>\n",
       "      <td>True</td>\n",
       "      <td>False</td>\n",
       "      <td>False</td>\n",
       "      <td>False</td>\n",
       "      <td>False</td>\n",
       "      <td>False</td>\n",
       "      <td>False</td>\n",
       "      <td>False</td>\n",
       "      <td>False</td>\n",
       "    </tr>\n",
       "    <tr>\n",
       "      <td>3</td>\n",
       "      <td>A</td>\n",
       "      <td>101.07</td>\n",
       "      <td>material_7</td>\n",
       "      <td>material_8</td>\n",
       "      <td>9</td>\n",
       "      <td>5</td>\n",
       "      <td>13</td>\n",
       "      <td>2</td>\n",
       "      <td>6</td>\n",
       "      <td>17.295</td>\n",
       "      <td>...</td>\n",
       "      <td>False</td>\n",
       "      <td>False</td>\n",
       "      <td>False</td>\n",
       "      <td>False</td>\n",
       "      <td>False</td>\n",
       "      <td>False</td>\n",
       "      <td>False</td>\n",
       "      <td>False</td>\n",
       "      <td>False</td>\n",
       "      <td>False</td>\n",
       "    </tr>\n",
       "    <tr>\n",
       "      <td>4</td>\n",
       "      <td>A</td>\n",
       "      <td>188.06</td>\n",
       "      <td>material_7</td>\n",
       "      <td>material_8</td>\n",
       "      <td>9</td>\n",
       "      <td>5</td>\n",
       "      <td>9</td>\n",
       "      <td>2</td>\n",
       "      <td>8</td>\n",
       "      <td>19.346</td>\n",
       "      <td>...</td>\n",
       "      <td>False</td>\n",
       "      <td>False</td>\n",
       "      <td>False</td>\n",
       "      <td>False</td>\n",
       "      <td>False</td>\n",
       "      <td>False</td>\n",
       "      <td>False</td>\n",
       "      <td>False</td>\n",
       "      <td>False</td>\n",
       "      <td>False</td>\n",
       "    </tr>\n",
       "  </tbody>\n",
       "</table>\n",
       "<p>5 rows × 42 columns</p>\n",
       "</div>"
      ],
      "text/plain": [
       "   product_code  loading attribute_0 attribute_1  attribute_2  attribute_3  \\\n",
       "id                                                                           \n",
       "0             A    80.10  material_7  material_8            9            5   \n",
       "1             A    84.89  material_7  material_8            9            5   \n",
       "2             A    82.43  material_7  material_8            9            5   \n",
       "3             A   101.07  material_7  material_8            9            5   \n",
       "4             A   188.06  material_7  material_8            9            5   \n",
       "\n",
       "    measurement_0  measurement_1  measurement_2  measurement_3  ...  isna_10  \\\n",
       "id                                                              ...            \n",
       "0               7              8              4         18.040  ...    False   \n",
       "1              14              3              3         18.213  ...    False   \n",
       "2              12              1              5         18.057  ...    False   \n",
       "3              13              2              6         17.295  ...    False   \n",
       "4               9              2              8         19.346  ...    False   \n",
       "\n",
       "    isna_11  isna_12  isna_13  isna_14  isna_15  isna_16  isna_17   na_1  \\\n",
       "id                                                                         \n",
       "0     False    False    False     True    False    False    False  False   \n",
       "1     False    False    False    False    False    False    False  False   \n",
       "2      True    False    False    False    False    False    False  False   \n",
       "3     False    False    False    False    False    False    False  False   \n",
       "4     False    False    False    False    False    False    False  False   \n",
       "\n",
       "     na_2  \n",
       "id         \n",
       "0   False  \n",
       "1   False  \n",
       "2   False  \n",
       "3   False  \n",
       "4   False  \n",
       "\n",
       "[5 rows x 42 columns]"
      ]
     },
     "execution_count": 16,
     "metadata": {},
     "output_type": "execute_result"
    }
   ],
   "source": [
    "df_prob1 = df_basetable.assign(\n",
    "    na_1 = lambda x: x['isna_3'],\n",
    "    na_2 = lambda x: x['isna_5']\n",
    ")\n",
    "df_prob1.head()"
   ]
  },
  {
   "cell_type": "code",
   "execution_count": 17,
   "id": "fd5885e3",
   "metadata": {},
   "outputs": [
    {
     "data": {
      "text/plain": [
       "(0.029988079249523434, 0.03)"
      ]
     },
     "execution_count": 17,
     "metadata": {},
     "output_type": "execute_result"
    }
   ],
   "source": [
    "A, round(A, 3)"
   ]
  },
  {
   "cell_type": "markdown",
   "id": "c33bbf8c",
   "metadata": {},
   "source": [
    "A의 값을 소수점 넷째 자리에서 반올림하여 셋째 자리까지 출력하시오. \n",
    "\n",
    "**0.030**"
   ]
  },
  {
   "cell_type": "markdown",
   "id": "569d2d0f",
   "metadata": {},
   "source": [
    "# 문제 2\n",
    "\n",
    "첫째는 스프링 개발 업체들은 실험이 제품 별로 공정하게 진행이 됐는지를 의문을 가지고 있다.\n",
    "\n",
    "product_code에 따라 개발 업체가 다르다. \n",
    "\n",
    "product_code에 대해서 스프링에 가한 부하(loading)를 동일하게 했는지 조사하라.\n",
    "\n",
    "둘째는, attribute_0와 attribute_1은 스프링을 구성하는 주요 소재이다. \n",
    "\n",
    "failure와는 관계가 없음이 이전에 검증되었다. \n",
    "\n",
    "하지만, 이에 대한 재확인 요청을 받아 attribute_0와 attribute_1은 failure와 상관없음을 확인한다.\n",
    "\n",
    "이를 위해 다음 단계를 수행하라.\n"
   ]
  },
  {
   "cell_type": "code",
   "execution_count": null,
   "id": "8bb314a6",
   "metadata": {},
   "outputs": [],
   "source": []
  },
  {
   "cell_type": "markdown",
   "id": "cfc21275",
   "metadata": {},
   "source": [
    "## 단계 2-1\n",
    "\n",
    "prob1에서 입력 변수 loading에 결측이 없는 행들을 뽑아 prob2 데이터프레임을 만든다.\n",
    "\n",
    "Hint] prob2의 데이터 수는 21,257 이다.\n"
   ]
  },
  {
   "cell_type": "code",
   "execution_count": 18,
   "id": "d2ef461d",
   "metadata": {},
   "outputs": [
    {
     "data": {
      "text/plain": [
       "21257"
      ]
     },
     "execution_count": 18,
     "metadata": {},
     "output_type": "execute_result"
    }
   ],
   "source": [
    "df_prob2 = df_prob1.loc[\n",
    "    df_prob1['loading'].notna()\n",
    "].copy()\n",
    "len(df_prob2)"
   ]
  },
  {
   "cell_type": "markdown",
   "id": "82ebf527",
   "metadata": {},
   "source": [
    "## 단계 2-2\n",
    "\n",
    "prob2에 loading의 각 행들에 자연 로그 함수를 적용하여 파생 변수 loading_log를 만든다.\n"
   ]
  },
  {
   "cell_type": "code",
   "execution_count": 19,
   "id": "fb0152db",
   "metadata": {},
   "outputs": [],
   "source": [
    "df_prob2 = df_prob2.assign(\n",
    "    loading_log = lambda x: np.log(x['loading'])\n",
    ")"
   ]
  },
  {
   "cell_type": "markdown",
   "id": "ea2245b2",
   "metadata": {},
   "source": [
    "## 단계 2-3\n",
    "\n",
    "loading_log가 product_code 각각에 대해서 정규성을 지니고 있는지 확인하고자 한다.\n",
    "\n",
    "이를 위해 product_code 별로 loading_log에 대한 Jarque-Bera로 검정하고, \n",
    "\n",
    "검정 결과 정규성을 부정할 수 없는 경우의 product_code의 수를 B라고 한다.(유의 수준: 5%)\n",
    "\n",
    "---\n",
    "\n",
    "**함수 가이드**\n",
    "\n",
    " scipy.stats 에서 제공 기능 활용\n",
    " \n",
    " 문제 지시사항 외 Default 값 사용\n",
    " \n",
    "---\n"
   ]
  },
  {
   "cell_type": "code",
   "execution_count": 20,
   "id": "f7563df2",
   "metadata": {},
   "outputs": [
    {
     "name": "stdout",
     "output_type": "stream",
     "text": [
      "Jarque_beraResult(statistic=1.467731470333654, pvalue=0.4800496537264637)\n",
      "Jarque_beraResult(statistic=0.6168837955943998, pvalue=0.7345906322931469)\n",
      "Jarque_beraResult(statistic=7.536229242478234, pvalue=0.023095566154546443)\n",
      "Jarque_beraResult(statistic=0.04839464502051384, pvalue=0.9760930856160965)\n"
     ]
    }
   ],
   "source": [
    "# 방법 1: 하드코딩\n",
    "from scipy.stats import jarque_bera\n",
    "print(jarque_bera(df_prob2.loc[df_prob2['product_code'] == 'A', 'loading_log']))\n",
    "print(jarque_bera(df_prob2.loc[df_prob2['product_code'] == 'B', 'loading_log']))\n",
    "print(jarque_bera(df_prob2.loc[df_prob2['product_code'] == 'C', 'loading_log']))\n",
    "print(jarque_bera(df_prob2.loc[df_prob2['product_code'] == 'E', 'loading_log']))"
   ]
  },
  {
   "cell_type": "code",
   "execution_count": 21,
   "id": "29d8044b",
   "metadata": {},
   "outputs": [
    {
     "data": {
      "text/html": [
       "<div>\n",
       "<style scoped>\n",
       "    .dataframe tbody tr th:only-of-type {\n",
       "        vertical-align: middle;\n",
       "    }\n",
       "\n",
       "    .dataframe tbody tr th {\n",
       "        vertical-align: top;\n",
       "    }\n",
       "\n",
       "    .dataframe thead th {\n",
       "        text-align: right;\n",
       "    }\n",
       "</style>\n",
       "<table border=\"1\" class=\"dataframe\">\n",
       "  <thead>\n",
       "    <tr style=\"text-align: right;\">\n",
       "      <th></th>\n",
       "      <th>stat</th>\n",
       "      <th>pvalue</th>\n",
       "    </tr>\n",
       "    <tr>\n",
       "      <th>product_code</th>\n",
       "      <th></th>\n",
       "      <th></th>\n",
       "    </tr>\n",
       "  </thead>\n",
       "  <tbody>\n",
       "    <tr>\n",
       "      <td>A</td>\n",
       "      <td>1.467731</td>\n",
       "      <td>0.480050</td>\n",
       "    </tr>\n",
       "    <tr>\n",
       "      <td>B</td>\n",
       "      <td>0.616884</td>\n",
       "      <td>0.734591</td>\n",
       "    </tr>\n",
       "    <tr>\n",
       "      <td>C</td>\n",
       "      <td>7.536229</td>\n",
       "      <td>0.023096</td>\n",
       "    </tr>\n",
       "    <tr>\n",
       "      <td>E</td>\n",
       "      <td>0.048395</td>\n",
       "      <td>0.976093</td>\n",
       "    </tr>\n",
       "  </tbody>\n",
       "</table>\n",
       "</div>"
      ],
      "text/plain": [
       "                  stat    pvalue\n",
       "product_code                    \n",
       "A             1.467731  0.480050\n",
       "B             0.616884  0.734591\n",
       "C             7.536229  0.023096\n",
       "E             0.048395  0.976093"
      ]
     },
     "metadata": {},
     "output_type": "display_data"
    },
    {
     "data": {
      "text/plain": [
       "3"
      ]
     },
     "execution_count": 21,
     "metadata": {},
     "output_type": "execute_result"
    }
   ],
   "source": [
    "# 방법 2: groupby ~ apply\n",
    "df_jarque = df_prob2.groupby('product_code')['loading_log'].apply(\n",
    "    lambda x: pd.Series(jarque_bera(x), index=['stat', 'pvalue'])\n",
    ").unstack()\n",
    "B = len(df_jarque.loc[df_jarque['pvalue'] >= 0.05])\n",
    "display(df_jarque)\n",
    "B"
   ]
  },
  {
   "cell_type": "markdown",
   "id": "dce7e5cf",
   "metadata": {},
   "source": [
    "## 단계 2-4\n",
    "\n",
    "loading_log 변수를 product_code로 구분했을 때, \n",
    "\n",
    "등분산성을 보이는지 Bartlett 검정을 통해 확인한다.\n",
    "\n",
    "검정 결과에서 p-value를 C라고 한다.\n",
    "\n",
    "---\n",
    "\n",
    "**함수 가이드**\n",
    "\n",
    " scipy.stats 에서 제공 기능 활용\n",
    " \n",
    " 문제 지시사항 외 Default 값 사용\n",
    " \n",
    "---\n"
   ]
  },
  {
   "cell_type": "code",
   "execution_count": 22,
   "id": "58e4897b",
   "metadata": {},
   "outputs": [
    {
     "data": {
      "text/plain": [
       "(BartlettResult(statistic=1.928667047072185, pvalue=0.5873433093297675),\n",
       " 0.5873433093297675)"
      ]
     },
     "execution_count": 22,
     "metadata": {},
     "output_type": "execute_result"
    }
   ],
   "source": [
    "# 방법 1: 하드코딩\n",
    "from scipy.stats import bartlett\n",
    "result_2_4 = bartlett(\n",
    "    df_prob2.loc[df_prob2['product_code'] == 'A', 'loading_log'],\n",
    "    df_prob2.loc[df_prob2['product_code'] == 'B', 'loading_log'],\n",
    "    df_prob2.loc[df_prob2['product_code'] == 'C', 'loading_log'],\n",
    "    df_prob2.loc[df_prob2['product_code'] == 'E', 'loading_log']\n",
    ")\n",
    "C = result_2_4.pvalue\n",
    "result_2_4, C"
   ]
  },
  {
   "cell_type": "code",
   "execution_count": 23,
   "id": "ad676186",
   "metadata": {},
   "outputs": [
    {
     "data": {
      "text/plain": [
       "(BartlettResult(statistic=1.928667047072185, pvalue=0.5873433093297675),\n",
       " 0.5873433093297675)"
      ]
     },
     "execution_count": 23,
     "metadata": {},
     "output_type": "execute_result"
    }
   ],
   "source": [
    "# 방법 2: groupby + list unpacking\n",
    "result_2_4 = bartlett(\n",
    "    *df_prob2.groupby('product_code')['loading_log'].agg(list)\n",
    ")\n",
    "C = result_2_4.pvalue\n",
    "result_2_4, C"
   ]
  },
  {
   "cell_type": "markdown",
   "id": "b058c6b2",
   "metadata": {},
   "source": [
    "## 단계 2-5\n",
    "\n",
    "product_code에 대한 분산분석(ANOVA)을 통해서 loading_log 평균에 차이가 있는지 검정한다.\n",
    "\n",
    "그 결과 중 p-value를 D라고 한다.\n",
    "\n",
    "---\n",
    "\n",
    "**함수 가이드**\n",
    "\n",
    " scipy.stats 제공 기능 활용\n",
    " \n",
    " 문제 지시사항 외 Default 값 사용\n",
    " \n",
    "---\n"
   ]
  },
  {
   "cell_type": "code",
   "execution_count": 24,
   "id": "ec47f9e0",
   "metadata": {},
   "outputs": [
    {
     "data": {
      "text/plain": [
       "(F_onewayResult(statistic=0.37177284134760413, pvalue=0.7733782072320899),\n",
       " 0.7733782072320899)"
      ]
     },
     "execution_count": 24,
     "metadata": {},
     "output_type": "execute_result"
    }
   ],
   "source": [
    "from scipy.stats import f_oneway\n",
    "result_2_5 = f_oneway(\n",
    "    *df_prob2.groupby('product_code')['loading_log'].agg(list)\n",
    ")\n",
    "D = result_2_5.pvalue\n",
    "result_2_5, D"
   ]
  },
  {
   "cell_type": "markdown",
   "id": "b978e6ec",
   "metadata": {},
   "source": [
    "**Tip!**  일원분산분석을 직접 해봅니다.\n",
    "\n",
    "GroupBy에 대한 활용법을 더 알아보고, \n",
    "\n",
    "ANOVA에 대한 이해를 공고히 해보기 위해 예를 들어 보입니다."
   ]
  },
  {
   "cell_type": "code",
   "execution_count": 25,
   "id": "c08c2931",
   "metadata": {},
   "outputs": [
    {
     "data": {
      "text/plain": [
       "(0.3717728413476142, 0.7733782072321986, 0.7733782072320899)"
      ]
     },
     "execution_count": 25,
     "metadata": {},
     "output_type": "execute_result"
    }
   ],
   "source": [
    "# 통계량 F = MSR/MSE를 구하기 위해서는, \n",
    "# SSR, SSE와 SSR에서의 자유도(dof1), SSE에서의 자유도(dof2)를 구합니다.\n",
    "# 이를 통해, MSR, MSE를 구합니다.\n",
    "\n",
    "# F = MSR / MSE, dof1 = \"product_code 수\" - 1, dof2 = \"표본수\" - \"product_code 수\"\n",
    "# MSR = SSR / dof1, MSE = SSE / dof2\n",
    "\n",
    "from scipy.stats import f\n",
    "\n",
    "# SSR은 (예측값(수준별 평균) - 평균) ** 2의 합입니다.\n",
    "mean_ = df_prob2['loading_log'].mean()\n",
    "SSR = df_prob2.groupby('product_code')['loading_log'].transform(lambda x: (x.mean() - mean_) ** 2).sum()\n",
    "\n",
    "# SSE는 (예측값(수준별 평균) - 실제값) ** 2의 합입니다.\n",
    "SSE = df_prob2.groupby('product_code')['loading_log'].transform(lambda x: (x - x.mean()) ** 2).sum()\n",
    "\n",
    "\n",
    "dof1 = df_prob2['product_code'].nunique() - 1\n",
    "dof2 = len(df_prob2) - df_prob2['product_code'].nunique()\n",
    "MSR = SSR / dof1\n",
    "MSE = SSE / dof2\n",
    "\n",
    "F = MSR / MSE\n",
    "F, 1 - f.cdf(F, dof1, dof2), f.sf(F, dof1, dof2)"
   ]
  },
  {
   "cell_type": "markdown",
   "id": "b3c23d2c",
   "metadata": {},
   "source": [
    "## 단계 2-6\n",
    "\n",
    "카이제곱검정을 통해 attribute_0, attribute_1의 결합값이 failure와 연관이 있는지 조사하라. \n",
    "\n",
    "attribute_0, attribute_1의 결합값의 의미 attribute_0=material_7, attribute_1=material_8 이라면, 이 둘의 결합값은\n",
    "matertial_7material_8를 의미한다.\n",
    "\n",
    "(유의 수준 1%) 연관이 있다면 E값은 1 없으면 0으로 한다.\n",
    "\n",
    "---\n",
    "\n",
    "**함수 가이드**\n",
    "\n",
    " scipy.stats.chi2_contingency, correction=False\n",
    " \n",
    " 문제 지시사항 외 Default 값 사용\n",
    " \n",
    "---\n"
   ]
  },
  {
   "cell_type": "code",
   "execution_count": 26,
   "id": "8b3530be",
   "metadata": {},
   "outputs": [
    {
     "data": {
      "text/plain": [
       "((7.0400463075335615,\n",
       "  0.029598749837407304,\n",
       "  2,\n",
       "  array([[4106.03584702, 1102.96415298],\n",
       "         [4162.79042198, 1118.20957802],\n",
       "         [8487.17373101, 2279.82626899]])),\n",
       " 0)"
      ]
     },
     "execution_count": 26,
     "metadata": {},
     "output_type": "execute_result"
    }
   ],
   "source": [
    "from scipy.stats import chi2_contingency \n",
    "s_attr = df_prob2['attribute_0'] + df_prob2['attribute_1']\n",
    "\n",
    "# H0: 독립 O, 연관 X / H1: 독립 X, 연관 O\n",
    "result_2_6 = chi2_contingency(\n",
    "    pd.crosstab(index=s_attr, columns=df_prob2['failure']), # # pd.crosstab을 통해 빈도수 테이블을 만듭니다.\n",
    "    correction=False\n",
    ")\n",
    "E = 0 if result_2_6[1] >= 0.01 else 1\n",
    "result_2_6, E"
   ]
  },
  {
   "cell_type": "markdown",
   "id": "56db513a",
   "metadata": {},
   "source": [
    "**Tip!** $Chi^2$ 검정도 직접해봅니다.\n",
    "\n",
    "$chi2 = \\sum_{i,j}\\frac{(E_{ij} - O_{ij})^2}{E_{ij}}$"
   ]
  },
  {
   "cell_type": "code",
   "execution_count": 27,
   "id": "d5014596",
   "metadata": {},
   "outputs": [
    {
     "data": {
      "text/plain": [
       "(0.029598749837406957, 0.029598749837406936)"
      ]
     },
     "execution_count": 27,
     "metadata": {},
     "output_type": "execute_result"
    }
   ],
   "source": [
    "from scipy.stats import chi2\n",
    "\n",
    "df_o = pd.crosstab(index=s_attr, columns=df_prob2['failure'])\n",
    "\n",
    "# 직접하기 위해서는 예측 빈도수 테이블이 필요합니다.\n",
    "# index에 해당하는 변수의 빈도수와\n",
    "# column에 해당하는 변수의 비율(value_counts(normalize=True))을 행렬곱을 하면 구할 수 있습니다.\n",
    "# pandas의 행렬곱은 dot에서 제공되고 있으면, caller의 열이름과 callee의 인덱스를 기준으로 연산을 합니다. \n",
    "# 이를 일치시켜 주기위해 rename('e')을 해줍니다.\n",
    "df_e = s_attr.value_counts(normalize=True).rename('e').to_frame().dot(\n",
    "    df_prob2['failure'].value_counts().rename('e').to_frame().T\n",
    ")\n",
    "chi2_st = ((df_e - df_o) ** 2 / df_e).sum().sum()\n",
    "dof = (s_attr.nunique() - 1) * (df_prob2['failure'].nunique() - 1)\n",
    "1 - chi2.cdf(chi2_st, dof), chi2.sf(chi2_st, dof)"
   ]
  },
  {
   "cell_type": "code",
   "execution_count": 28,
   "id": "c4f17550",
   "metadata": {},
   "outputs": [
    {
     "data": {
      "text/plain": [
       "(3, 0.5873433093297675, 0.7733782072320899, 0, 4.360721516561858, 4.36)"
      ]
     },
     "execution_count": 28,
     "metadata": {},
     "output_type": "execute_result"
    }
   ],
   "source": [
    "B, C, D, E, B + C + D + E, round(B + C + D + E, 2)"
   ]
  },
  {
   "cell_type": "markdown",
   "id": "af42805f",
   "metadata": {},
   "source": [
    "B + C + D + E의 값을 소수점 셋째 자리에서 반올림하여 둘째 자리까지 출력하시오.\n",
    "\n",
    "**4.36**"
   ]
  },
  {
   "cell_type": "markdown",
   "id": "e3fe1afc",
   "metadata": {},
   "source": [
    "# 문제 3\n",
    "\n",
    "로지스틱 회귀모델로 수치형 변수 measurement_0 ~ 17, \n",
    "\n",
    "loading과 이진형인 na_1, na_2 중에서 최적의 성능을 보이는 입력 변수들을 찾고자 한다.\n"
   ]
  },
  {
   "cell_type": "code",
   "execution_count": null,
   "id": "17a63c49",
   "metadata": {},
   "outputs": [],
   "source": []
  },
  {
   "cell_type": "markdown",
   "id": "a1ec19e2",
   "metadata": {},
   "source": [
    "## 단계 3-1\n",
    "\n",
    "prob1을 복사하여 prob3을 만든다. loading의 결측치는 loading의 평균으로 대치한다.  "
   ]
  },
  {
   "cell_type": "code",
   "execution_count": 29,
   "id": "74e376a6",
   "metadata": {},
   "outputs": [
    {
     "data": {
      "text/plain": [
       "0"
      ]
     },
     "execution_count": 29,
     "metadata": {},
     "output_type": "execute_result"
    }
   ],
   "source": [
    "df_prob3 = df_prob1.assign(\n",
    "    loading = df_prob1['loading'].fillna(df_prob1['loading'].mean())\n",
    ")\n",
    "df_prob3.isna().sum().sum()"
   ]
  },
  {
   "cell_type": "markdown",
   "id": "61eb5594",
   "metadata": {},
   "source": [
    "## 단계 3-2: \n",
    "    \n",
    "prob3를 80%는 학습데이터 prob3_train으로 20%는 테스트데이터 prob3_test로 나눈다. \n",
    "\n",
    "prob3_train의 failure가 1인 비율과 prob3_test의 failure가 1의 비율을 동일하게 한다.\n",
    "\n",
    "\n",
    "---\n",
    "\n",
    "**함수 가이드**\n",
    "\n",
    " sklearn.model_selection.train_test_split, random_state=123, \n",
    " \n",
    " train과 test의 failure의 비율은 stratify 매개 변수를 이용하여 맞춘다.\n",
    " \n",
    " 문제 지시사항 외 Default 값 사용\n",
    " \n",
    "---"
   ]
  },
  {
   "cell_type": "code",
   "execution_count": 30,
   "id": "7b58d9c8",
   "metadata": {},
   "outputs": [],
   "source": [
    "from sklearn.model_selection import train_test_split\n",
    "\n",
    "# stratify에 비율을 맞추고자 하는 변수(pd.Series, np.array ... )를 넣어주면 층화 분리를 합니다.\n",
    "df_prob3_train, df_prob3_test = train_test_split(\n",
    "    df_prob3, train_size=0.8, random_state=123, stratify=df_prob3['failure']\n",
    ")\n",
    "\n",
    "# 시험장 버젼의 train_test_split 는 reference 상태인 DataFrame을 넘겨줍니다.\n",
    "# .copy()를 통해 수정에도 문제가 없도록 합니다.\n",
    "df_prob3_train, df_prob3_test = df_prob3_train.copy(), df_prob3_test.copy()"
   ]
  },
  {
   "cell_type": "markdown",
   "id": "e7716c3a",
   "metadata": {},
   "source": [
    "## 단계 3-3\n",
    "\n",
    "prob3_train의 수치형 입력 변수 loading, measurement_0 ~ 17을 표준화한다. \n",
    "\n",
    "prob3_train의 표준화 설정으로 prob3_test의 loading, measurement_0 ~ 17에도 적용한다. \n",
    "\n",
    "표준화 처리한 prob3_train과 prob3_test는 문제 4와 문제 5에서 사용한다.\n",
    "\n",
    "\n",
    "---\n",
    "\n",
    "**함수 가이드**\n",
    "\n",
    " sklearn.preprocessing 제공 기능 활용, \n",
    " \n",
    " 문제 지시사항 외 Default 값 사용\n",
    " \n",
    "---\n"
   ]
  },
  {
   "cell_type": "code",
   "execution_count": 31,
   "id": "bf17f958",
   "metadata": {},
   "outputs": [],
   "source": [
    "from sklearn.preprocessing import StandardScaler\n",
    "\n",
    "std_scaler = StandardScaler()\n",
    "X_std = ['loading'] + ['measurement_{}'.format(i) for i in range(18)]\n",
    "df_prob3_train[X_std] = std_scaler.fit_transform(df_prob3_train[X_std])\n",
    "df_prob3_test[X_std] = std_scaler.transform(df_prob3_test[X_std])"
   ]
  },
  {
   "cell_type": "markdown",
   "id": "b20b6ef8",
   "metadata": {},
   "source": [
    "## 단계 3-4\n",
    "    \n",
    "로지스틱 회귀모델을 사용하여 loading, measurement_0~17과 na_1, na_2를 입력 변수로 하여 prob3_train을 학습한다. \n",
    "\n",
    "로지스틱 회귀모델을 prob3_test로 성능을 측정한 값을 A라고 한다.\n",
    "\n",
    "입력 변수: loading, measurement_0~17, na_1, na_2\n",
    "\n",
    "대상 변수: failure\n",
    "\n",
    "성능 지표: AUC(area under of ROC curve)\n",
    "\n",
    "---\n",
    "\n",
    "**함수 가이드**\n",
    "\n",
    " sklearn.linear_model.LogisticRegression, solver='lbfgs', 문제 지시사항 외 Default 값 사용\n",
    " \n",
    " sklearn.metrics.roc_auc_score\n",
    " \n",
    "---"
   ]
  },
  {
   "cell_type": "code",
   "execution_count": 32,
   "id": "fb86e3fd",
   "metadata": {},
   "outputs": [
    {
     "data": {
      "text/plain": [
       "(0.5792951262053387, 0.5952982435574312)"
      ]
     },
     "execution_count": 32,
     "metadata": {},
     "output_type": "execute_result"
    }
   ],
   "source": [
    "from sklearn.linear_model import LogisticRegression\n",
    "# roc_auc는 순위기반의 지표입니다. positive의 정도를 나타내는 수치(예측 결과)를 넘겨줍니다. \n",
    "from sklearn.metrics import roc_auc_score\n",
    "X_lr = ['loading'] + ['measurement_{}'.format(i) for i in range(18)] + ['na_1', 'na_2']\n",
    "clf_lr = LogisticRegression(solver='lbfgs')\n",
    "clf_lr.fit(df_prob3_train[X_lr], df_prob3_train['failure'])\n",
    "\n",
    "# Positive 정도를 나타내는 수치로 Positive Class일 확률을 넘깁니다.\n",
    "A = roc_auc_score(df_prob3_test['failure'], clf_lr.predict_proba(df_prob3_test[X_lr])[:, 1])\n",
    "(\n",
    "    A,\n",
    "    roc_auc_score(df_prob3_train['failure'], clf_lr.predict_proba(df_prob3_train[X_lr])[:, 1])\n",
    ")"
   ]
  },
  {
   "cell_type": "code",
   "execution_count": 33,
   "id": "d30c99e3",
   "metadata": {},
   "outputs": [
    {
     "data": {
      "text/plain": [
       "(0.5886355699157924, 0.5778277926972065)"
      ]
     },
     "execution_count": 33,
     "metadata": {},
     "output_type": "execute_result"
    }
   ],
   "source": [
    "# Positive 정도를 나타내는 수치로는 loading이 될 수도 있습니다.\n",
    "(\n",
    "    roc_auc_score(df_prob3_train['failure'], df_prob3_train['loading']),\n",
    "    roc_auc_score(df_prob3_test['failure'], df_prob3_test['loading'])\n",
    ")"
   ]
  },
  {
   "cell_type": "code",
   "execution_count": 34,
   "id": "744932c2",
   "metadata": {},
   "outputs": [
    {
     "data": {
      "text/plain": [
       "0.5792951262053387"
      ]
     },
     "execution_count": 34,
     "metadata": {},
     "output_type": "execute_result"
    }
   ],
   "source": [
    "# ROC AUC의 실제 값을 구해봅니다. \n",
    "# LogisticRegression 의 decision_function은 Logit을 줍니다. Logit 또한 Positive 정보를 Positive일 확률과 같이 나타낼 수 있습니다.\n",
    "df_prob3_test[['failure']].assign(\n",
    "    score = clf_lr.decision_function(df_prob3_test[X_lr])\n",
    ").sort_values('score', ascending=False).assign(\n",
    "    fpr=lambda x: (1-x['failure']).cumsum() / (1 - x['failure']).sum(),\n",
    "    tpr=lambda x: (x['failure']).cumsum() / ( x['failure']).sum(),\n",
    ").assign(\n",
    "    fpr_1 = lambda x: x['fpr'].shift(1).fillna(0)\n",
    ").assign(\n",
    "    sq = lambda x: (x['fpr'] - x['fpr_1']) * x['tpr']\n",
    ")['sq'].sum()"
   ]
  },
  {
   "cell_type": "code",
   "execution_count": 35,
   "id": "a7ad326d",
   "metadata": {},
   "outputs": [
    {
     "data": {
      "image/png": "[encoded data removed]",
      "text/plain": [
       "<Figure size 600x500 with 1 Axes>"
      ]
     },
     "metadata": {},
     "output_type": "display_data"
    }
   ],
   "source": [
    "# ROC AUC를 그려봅니다.\n",
    "plt.figure(figsize=(6, 5))\n",
    "plt.plot([0, 1], [0, 1], color='orange', linestyle='--')\n",
    "df_prob3_test[['failure']].assign(\n",
    "    score = clf_lr.decision_function(df_prob3_test[X_lr])\n",
    ").sort_values('score', ascending=False).assign(\n",
    "    fpr=lambda x: (1-x['failure']).cumsum() / (1 - x['failure']).sum(),\n",
    "    tpr=lambda x: (x['failure']).cumsum() / ( x['failure']).sum(),\n",
    ").pipe(\n",
    "    lambda x: plt.plot(x['fpr'], x['tpr'])\n",
    ")\n",
    "plt.show()"
   ]
  },
  {
   "cell_type": "markdown",
   "id": "7cba372a",
   "metadata": {},
   "source": [
    "## 단계 3-5\n",
    "\n",
    "loading, measurement_0 ~ 17, na_1, na_2를 후보 입력 변수로 한다. \n",
    "\n",
    "전진 선택법을 사용하여 이 후보 입력 변수 중에서 최적의 성능을 보이는 입력 변수의 조합을 찾는다. \n",
    "\n",
    "전진 선택법의 선택 기준은 prob3_train을 대상으로 5겹 층화교차검증(5-Fold stratified cross validation)을 하고 \n",
    "\n",
    "겹외(OOF, Out-Of Fold) 성능의 평균값으로 한다. 전진 선택 과정에서 선택했던 변수를 제외하지 않는다. \n",
    "\n",
    "입력 변수: 본 단계 요건 참고\n",
    "\n",
    "대상 변수: failure \n",
    "\n",
    "성능 지표: AUC(area under of ROC curve)\n",
    "\n",
    "---\n",
    "**함수가이드**\n",
    "\n",
    "mlxtend.feature_selection.SequentialFeatureSelector\n",
    "\n",
    "sklearn.linear_model.LogisticRegression, solver='lbfgs'\n",
    "\n",
    "sklearn.metrics.roc_auc_score\n",
    "\n",
    "sklearn.model_selection.StratifiedKFold, random_state=123, shuffle=True\n",
    "\n",
    "문제 지시사항 외 Default 값 사용\n",
    "\n",
    "---"
   ]
  },
  {
   "cell_type": "code",
   "execution_count": 36,
   "id": "9713233f",
   "metadata": {},
   "outputs": [
    {
     "name": "stderr",
     "output_type": "stream",
     "text": [
      "c:\\users\\student\\python37\\lib\\site-packages\\sklearn\\externals\\joblib\\__init__.py:15: DeprecationWarning: sklearn.externals.joblib is deprecated in 0.21 and will be removed in 0.23. Please import this functionality directly from joblib, which can be installed with: pip install joblib. If this warning is raised when loading pickled models, you may need to re-serialize those models with scikit-learn 0.21+.\n",
      "  warnings.warn(msg, category=DeprecationWarning)\n"
     ]
    },
    {
     "data": {
      "text/plain": [
       "SequentialFeatureSelector(clone_estimator=True,\n",
       "                          cv=StratifiedKFold(n_splits=5, random_state=123, shuffle=True),\n",
       "                          estimator=LogisticRegression(C=1.0, class_weight=None,\n",
       "                                                       dual=False,\n",
       "                                                       fit_intercept=True,\n",
       "                                                       intercept_scaling=1,\n",
       "                                                       l1_ratio=None,\n",
       "                                                       max_iter=100,\n",
       "                                                       multi_class='warn',\n",
       "                                                       n_jobs=None,\n",
       "                                                       penalty='l2',\n",
       "                                                       random_state=None,\n",
       "                                                       solver='lbfgs',\n",
       "                                                       tol=0.0001, verbose=0,\n",
       "                                                       warm_start=False),\n",
       "                          floating=False, forward=True, k_features='best',\n",
       "                          n_jobs=1, pre_dispatch='2*n_jobs', scoring='roc_auc',\n",
       "                          verbose=0)"
      ]
     },
     "execution_count": 36,
     "metadata": {},
     "output_type": "execute_result"
    }
   ],
   "source": [
    "from mlxtend.feature_selection import SequentialFeatureSelector\n",
    "from sklearn.model_selection import StratifiedKFold\n",
    "from sklearn.linear_model import LogisticRegression\n",
    "\n",
    "X_sfs = ['loading'] + ['measurement_{}'.format(i) for i in range(18)] + ['na_1', 'na_2']\n",
    "\n",
    "sfs = SequentialFeatureSelector(\n",
    "    estimator = LogisticRegression(solver='lbfgs'),\n",
    "    k_features = 'best', #  후보 입력 변수 중에서 최적의 성능을 보이는 입력 변수의 조합을 찾는다.\n",
    "    forward = True, # 전진 선택법을 사용하여 \n",
    "    scoring = 'roc_auc', # _score: _score 제외 roc_auc, _error: neg_  neg_mean_squared_error\n",
    "    floating = False,\n",
    "    cv = StratifiedKFold(5, random_state=123, shuffle=True)  # 5겹 층화교차검증(5-Fold stratified cross validation)\n",
    ")\n",
    "sfs.fit(df_prob3_train[X_sfs], df_prob3_train['failure'])"
   ]
  },
  {
   "cell_type": "code",
   "execution_count": 37,
   "id": "4e8c235c",
   "metadata": {},
   "outputs": [
    {
     "data": {
      "text/plain": [
       "(('loading',\n",
       "  'measurement_1',\n",
       "  'measurement_4',\n",
       "  'measurement_14',\n",
       "  'measurement_17',\n",
       "  'na_1'),\n",
       " 0.5917537024093409)"
      ]
     },
     "execution_count": 37,
     "metadata": {},
     "output_type": "execute_result"
    }
   ],
   "source": [
    "sfs.k_feature_names_, sfs.k_score_"
   ]
  },
  {
   "cell_type": "code",
   "execution_count": 38,
   "id": "cbed233e",
   "metadata": {},
   "outputs": [
    {
     "data": {
      "text/plain": [
       "['loading',\n",
       " 'measurement_1',\n",
       " 'measurement_4',\n",
       " 'measurement_14',\n",
       " 'measurement_17',\n",
       " 'na_1']"
      ]
     },
     "execution_count": 38,
     "metadata": {},
     "output_type": "execute_result"
    }
   ],
   "source": [
    "X_sfs_best = list(sfs.k_feature_names_)\n",
    "X_sfs_best"
   ]
  },
  {
   "cell_type": "markdown",
   "id": "2e7c6893",
   "metadata": {},
   "source": [
    "## 단계 3-6\n",
    "\n",
    "단계 3-5에서 찾은 최적의 입력 변수 조합으로 로지스틱 회귀모델을 사용하여 prob3_train을 학습하고 \n",
    "\n",
    "prob3_test로 성능을 측정한 값을 B라고 한다.\n",
    "\n",
    "입력 변수: **단계 3-5**에서 도출한 최적의 입력 변수 조합\n",
    "\n",
    "대상 변수: failure\n",
    "\n",
    "성능 지표: AUC(area under of ROC curve)\n",
    "\n",
    "---\n",
    "**함수 가이드**\n",
    "\n",
    "sklearn.linear_model.LogisticRegression, solver='lbfgs'\n",
    "\n",
    "sklearn.metrics.roc_auc_score\n",
    "\n",
    "문제 지시사항 외 Default 값 사용\n",
    "\n",
    "---"
   ]
  },
  {
   "cell_type": "code",
   "execution_count": 39,
   "id": "8d96e152",
   "metadata": {},
   "outputs": [
    {
     "data": {
      "text/plain": [
       "(0.5838326230092876, 0.5936682060775388)"
      ]
     },
     "execution_count": 39,
     "metadata": {},
     "output_type": "execute_result"
    }
   ],
   "source": [
    "# Baseline: (0.5792951262053387, 0.5952982435574312)\n",
    "from sklearn.linear_model import LogisticRegression\n",
    "from sklearn.metrics import roc_auc_score\n",
    "\n",
    "clf_lr = LogisticRegression(solver='lbfgs')\n",
    "clf_lr.fit(df_prob3_train[X_sfs_best], df_prob3_train['failure'])\n",
    "B = roc_auc_score(df_prob3_test['failure'], clf_lr.predict_proba(df_prob3_test[X_sfs_best])[:, 1])\n",
    "(\n",
    "    B,\n",
    "    roc_auc_score(df_prob3_train['failure'], clf_lr.predict_proba(df_prob3_train[X_sfs_best])[:, 1])\n",
    ")"
   ]
  },
  {
   "cell_type": "code",
   "execution_count": 40,
   "id": "9194227a",
   "metadata": {},
   "outputs": [
    {
     "data": {
      "text/plain": [
       "(0.5792951262053387, 0.5838326230092876, -0.004537496803948882, -0.005)"
      ]
     },
     "execution_count": 40,
     "metadata": {},
     "output_type": "execute_result"
    }
   ],
   "source": [
    "A, B, A - B, round(A - B, 3)"
   ]
  },
  {
   "cell_type": "markdown",
   "id": "fac40eec",
   "metadata": {},
   "source": [
    "A-B값을 소수점 넷째 자리에서 반올림하여 셋째 자리까지 출력하시오\n",
    "\n",
    "**-0.005**"
   ]
  },
  {
   "cell_type": "markdown",
   "id": "4ed67461",
   "metadata": {},
   "source": [
    "# 문제 4\n",
    "\n",
    "차원 축소 기법을 통한 데이터의 특성과 failure 분류 성능을 높힐 만한 요소를 살펴 본다. \n",
    "\n",
    "첫째로, loading을 제외하고, measurement_0 ~ 17을 입력으로 failure를 대상 변수로 Linear Discrimant Analysis(LDA) 모델을 만든다. \n",
    "\n",
    "True/False 이진 변수인 failure를 분류한다는 점에서 LDA 모델은 measurement_0 ~ 17를 한 개의 경계점으로 \n",
    "\n",
    "failure를 최대한 정확하게 구분하도록 하나의 연속형 변수로 변환한다. \n",
    "\n",
    "스프링의 내구력이 높을 수록 failure 확률이 낮아진다면, \n",
    "\n",
    "측정값 measurement_0 ~ 17의 LDA 변환값은 스프링의 내구력을 나타낸다라고 할 수 있다.\n",
    "\n",
    "실험에서 스프링에 가한 부하(loading)와  LDA 변환값의 상관도를 측정하여, \n",
    "\n",
    "측정값 measurement_0~17 에서 예상되는 내구력이 스프링에 따라 부하(loading)의 반영 정도를 가늠한다.\n",
    "\n",
    "둘째로, PCA를 사용하여 차원 감소로 failure 분류 성능에 얼마나 효과가 있을지 살펴본다.\n",
    "\n",
    "문제3에서 사용했던, 전처리(loading 결측치 처리와 표준화 과정을 거친) 과정을 거친 prob3_train과 prob3_test를 사용한다.\n"
   ]
  },
  {
   "cell_type": "code",
   "execution_count": null,
   "id": "05ee8e76",
   "metadata": {},
   "outputs": [],
   "source": []
  },
  {
   "cell_type": "markdown",
   "id": "3579a749",
   "metadata": {},
   "source": [
    "## 단계 4-1\n",
    "\n",
    "prob3_train에서 measurement_0 ~ 17을 입력으로 failure를 대상 변수로 하여 LDA(Linear Discriminant Analysis) 모델을 학습한다. \n",
    "\n",
    "measurement_0 ~ 17에 대한 prob3_train에서의 LDA의 변환값과 loading과 스피어만 상관도 (spearman correlation)의 p-value를 구하여 A라고 한다.\n",
    "\n",
    "입력 변수] measurement_0 ~ 17 (순서에 유의 하시오)\n",
    "\n",
    "대상 변수] failure\n",
    "\n",
    "---\n",
    "**함수가이드**\n",
    "\n",
    "sklearn.discriminant_analysis 제공 기능 활용\n",
    "\n",
    "scipy.stats.spearmanr\n",
    "\n",
    "문제 지시사항 외 Default 값 사용\n",
    "\n",
    "---"
   ]
  },
  {
   "cell_type": "code",
   "execution_count": 41,
   "id": "b6bbc9a0",
   "metadata": {},
   "outputs": [
    {
     "data": {
      "text/plain": [
       "LinearDiscriminantAnalysis(n_components=None, priors=None, shrinkage=None,\n",
       "                           solver='svd', store_covariance=False, tol=0.0001)"
      ]
     },
     "execution_count": 41,
     "metadata": {},
     "output_type": "execute_result"
    }
   ],
   "source": [
    "from sklearn.discriminant_analysis import LinearDiscriminantAnalysis\n",
    "lda = LinearDiscriminantAnalysis()\n",
    "X_lda = ['measurement_{}'.format(i) for i in range(18)]\n",
    "lda.fit(df_prob3_train[X_lda], df_prob3_train['failure'])"
   ]
  },
  {
   "cell_type": "code",
   "execution_count": 42,
   "id": "3177d374",
   "metadata": {},
   "outputs": [
    {
     "data": {
      "text/plain": [
       "(SpearmanrResult(correlation=0.0029462997112993335, pvalue=0.6995009550811424),\n",
       " 0.6995009550811424)"
      ]
     },
     "execution_count": 42,
     "metadata": {},
     "output_type": "execute_result"
    }
   ],
   "source": [
    "from scipy.stats import spearmanr\n",
    "\n",
    "result_4_1 = spearmanr(df_prob3_train['loading'], lda.transform(df_prob3_train[X_lda]))\n",
    "A = result_4_1.pvalue\n",
    "result_4_1, A"
   ]
  },
  {
   "cell_type": "markdown",
   "id": "1e726a4a",
   "metadata": {},
   "source": [
    "## 단계 4-2\n",
    "\n",
    "prob3_train에서 measurement_0 ~ 17을 대상으로 주성분분석(Principal Component Analysis, PCA) 모델을 학습한다. \n",
    "\n",
    "분산 설명율이 높은 순으로 주성분을 변수명을 pca_0 ~ 17하여 prob3_train에 추가하여 prob4_train을 만든다. \n",
    "\n",
    "prob3_test에 prob3_train를 학습했던 PCA 모델로 동일한 방법으로 pca_0 ~17 파생 변수를 추가하여 prob4_test를 만든다.\n",
    "\n",
    "입력 변수] measurement_0 ~ 17 (순서에 유의 하시오)\n",
    "\n",
    "---\n",
    "**함수가이드**\n",
    "\n",
    "sklearn.decomposition.PCA, random_state=123\n",
    "\n",
    "문제 지시사항 외 Default 값 사용\n",
    "\n",
    "---\n"
   ]
  },
  {
   "cell_type": "code",
   "execution_count": 43,
   "id": "2934c155",
   "metadata": {},
   "outputs": [],
   "source": [
    "from sklearn.decomposition import PCA\n",
    "X_pca = ['measurement_{}'.format(i) for i in range(18)]\n",
    "\n",
    "pca = PCA(n_components=None, random_state=123)\n",
    "pca.fit(df_prob3_train[X_pca])\n",
    "\n",
    "X_comp = ['pca_{}'.format(i) for i in range(18)]\n",
    "df_prob4_train = df_prob3_train.copy()\n",
    "df_prob4_train[X_comp] = pd.DataFrame(pca.transform(df_prob4_train[X_pca]), index=df_prob4_train.index, columns=X_comp)\n",
    "\n",
    "df_prob4_test = df_prob3_test.copy()\n",
    "df_prob4_test[X_comp] = pd.DataFrame(pca.transform(df_prob4_test[X_pca]), index=df_prob4_test.index, columns=X_comp)"
   ]
  },
  {
   "cell_type": "code",
   "execution_count": 44,
   "id": "bf30ca0b",
   "metadata": {},
   "outputs": [
    {
     "data": {
      "text/plain": [
       "array([1.85613793, 1.41894459, 1.25547315, 1.1632852 , 1.06637856,\n",
       "       1.05000212, 1.01995967, 1.00922255, 1.00657757, 0.99213623,\n",
       "       0.98552903, 0.97614082, 0.97170312, 0.87532548, 0.81399432,\n",
       "       0.70771288, 0.67969009, 0.15283534])"
      ]
     },
     "execution_count": 44,
     "metadata": {},
     "output_type": "execute_result"
    }
   ],
   "source": [
    "# pca.explained_variance_: Cov Matrix의 고윳값(eigen value)\n",
    "pca.explained_variance_"
   ]
  },
  {
   "cell_type": "code",
   "execution_count": 45,
   "id": "d1c752fa",
   "metadata": {},
   "outputs": [
    {
     "data": {
      "text/plain": [
       "array([0.15282644, 0.6796505 , 0.70767165, 0.8139469 , 0.87527448,\n",
       "       0.97164652, 0.97608395, 0.98547162, 0.99207844, 1.00651893,\n",
       "       1.00916376, 1.01990025, 1.04994095, 1.06631644, 1.16321743,\n",
       "       1.25540001, 1.41886193, 1.8560298 ])"
      ]
     },
     "execution_count": 45,
     "metadata": {},
     "output_type": "execute_result"
    }
   ],
   "source": [
    "cov = df_prob4_train[X_pca].cov()\n",
    "# (표본)공분산 행렬을 직접 구할 수 있습니다.\n",
    "# cov = (df_prob4_train[X_pca] - df_prob4_train[X_pca].mean()).pipe(lambda x: x.T.dot(x)) / (len(df_prob4_train) - 1)\n",
    "# 고유값 분해를 합니다. 대칭행렬이므로,eigh를 사용합니다.\n",
    "eig_val, eig_mat = np.linalg.eigh(cov)\n",
    "eig_val"
   ]
  },
  {
   "cell_type": "code",
   "execution_count": 46,
   "id": "e2694f42",
   "metadata": {},
   "outputs": [
    {
     "data": {
      "text/plain": [
       "array([ 0.02288252, -0.01958201, -0.01509695,  0.05039369,  0.20405996,\n",
       "        0.3711166 ,  0.19052884,  0.26894856,  0.42706392,  0.16470465,\n",
       "       -0.00990499, -0.02259867,  0.00279912, -0.03389473,  0.01152647,\n",
       "       -0.02018188, -0.02793587,  0.70407787])"
      ]
     },
     "execution_count": 46,
     "metadata": {},
     "output_type": "execute_result"
    }
   ],
   "source": [
    "# 가장 고윳값이 큰 것은 마지막 인덱스에 있습니다, 가장 고윳값의 고유벡터입니다.\n",
    "eig_mat.T[-1]"
   ]
  },
  {
   "cell_type": "code",
   "execution_count": 47,
   "id": "a9bb3c8f",
   "metadata": {},
   "outputs": [
    {
     "data": {
      "text/plain": [
       "array([ 0.02288252, -0.01958201, -0.01509695,  0.05039369,  0.20405996,\n",
       "        0.3711166 ,  0.19052884,  0.26894856,  0.42706392,  0.16470465,\n",
       "       -0.00990499, -0.02259867,  0.00279912, -0.03389473,  0.01152647,\n",
       "       -0.02018188, -0.02793587,  0.70407787])"
      ]
     },
     "execution_count": 47,
     "metadata": {},
     "output_type": "execute_result"
    }
   ],
   "source": [
    "# pca에서의 가장 고유값이 큰 고유벡터입니다.\n",
    "pca.components_[0]"
   ]
  },
  {
   "cell_type": "code",
   "execution_count": 48,
   "id": "c741c615",
   "metadata": {},
   "outputs": [
    {
     "data": {
      "text/html": [
       "<div>\n",
       "<style scoped>\n",
       "    .dataframe tbody tr th:only-of-type {\n",
       "        vertical-align: middle;\n",
       "    }\n",
       "\n",
       "    .dataframe tbody tr th {\n",
       "        vertical-align: top;\n",
       "    }\n",
       "\n",
       "    .dataframe thead th {\n",
       "        text-align: right;\n",
       "    }\n",
       "</style>\n",
       "<table border=\"1\" class=\"dataframe\">\n",
       "  <thead>\n",
       "    <tr style=\"text-align: right;\">\n",
       "      <th></th>\n",
       "      <th>0</th>\n",
       "      <th>1</th>\n",
       "      <th>2</th>\n",
       "      <th>3</th>\n",
       "      <th>4</th>\n",
       "      <th>5</th>\n",
       "      <th>6</th>\n",
       "      <th>7</th>\n",
       "      <th>8</th>\n",
       "      <th>9</th>\n",
       "      <th>10</th>\n",
       "      <th>11</th>\n",
       "      <th>12</th>\n",
       "      <th>13</th>\n",
       "      <th>14</th>\n",
       "      <th>15</th>\n",
       "      <th>16</th>\n",
       "      <th>17</th>\n",
       "    </tr>\n",
       "    <tr>\n",
       "      <th>id</th>\n",
       "      <th></th>\n",
       "      <th></th>\n",
       "      <th></th>\n",
       "      <th></th>\n",
       "      <th></th>\n",
       "      <th></th>\n",
       "      <th></th>\n",
       "      <th></th>\n",
       "      <th></th>\n",
       "      <th></th>\n",
       "      <th></th>\n",
       "      <th></th>\n",
       "      <th></th>\n",
       "      <th></th>\n",
       "      <th></th>\n",
       "      <th></th>\n",
       "      <th></th>\n",
       "      <th></th>\n",
       "    </tr>\n",
       "  </thead>\n",
       "  <tbody>\n",
       "    <tr>\n",
       "      <td>12186</td>\n",
       "      <td>-1.014834</td>\n",
       "      <td>0.988654</td>\n",
       "      <td>0.608313</td>\n",
       "      <td>-1.219573</td>\n",
       "      <td>2.315742</td>\n",
       "      <td>2.149935</td>\n",
       "      <td>0.129206</td>\n",
       "      <td>0.481958</td>\n",
       "      <td>0.100301</td>\n",
       "      <td>1.853256</td>\n",
       "      <td>-1.409439</td>\n",
       "      <td>-0.944188</td>\n",
       "      <td>0.578288</td>\n",
       "      <td>0.269921</td>\n",
       "      <td>1.985320</td>\n",
       "      <td>-0.127064</td>\n",
       "      <td>-0.473798</td>\n",
       "      <td>1.753419</td>\n",
       "    </tr>\n",
       "    <tr>\n",
       "      <td>7532</td>\n",
       "      <td>-1.250324</td>\n",
       "      <td>-0.929650</td>\n",
       "      <td>0.912362</td>\n",
       "      <td>-1.220579</td>\n",
       "      <td>-1.797575</td>\n",
       "      <td>-0.771911</td>\n",
       "      <td>0.175545</td>\n",
       "      <td>-0.629557</td>\n",
       "      <td>0.212792</td>\n",
       "      <td>0.434345</td>\n",
       "      <td>-0.112895</td>\n",
       "      <td>-0.632997</td>\n",
       "      <td>0.535767</td>\n",
       "      <td>-0.365820</td>\n",
       "      <td>-0.065802</td>\n",
       "      <td>2.202253</td>\n",
       "      <td>1.973899</td>\n",
       "      <td>-1.441619</td>\n",
       "    </tr>\n",
       "    <tr>\n",
       "      <td>5469</td>\n",
       "      <td>-0.779343</td>\n",
       "      <td>0.748866</td>\n",
       "      <td>1.824512</td>\n",
       "      <td>-1.582543</td>\n",
       "      <td>1.189823</td>\n",
       "      <td>0.945189</td>\n",
       "      <td>1.470030</td>\n",
       "      <td>0.086709</td>\n",
       "      <td>1.522865</td>\n",
       "      <td>0.069539</td>\n",
       "      <td>0.221063</td>\n",
       "      <td>1.196195</td>\n",
       "      <td>-1.241071</td>\n",
       "      <td>0.600403</td>\n",
       "      <td>0.533841</td>\n",
       "      <td>0.247869</td>\n",
       "      <td>0.994222</td>\n",
       "      <td>0.554850</td>\n",
       "    </tr>\n",
       "    <tr>\n",
       "      <td>5998</td>\n",
       "      <td>-1.485815</td>\n",
       "      <td>-0.210286</td>\n",
       "      <td>0.000213</td>\n",
       "      <td>-0.999378</td>\n",
       "      <td>1.477825</td>\n",
       "      <td>0.381844</td>\n",
       "      <td>1.196022</td>\n",
       "      <td>0.375622</td>\n",
       "      <td>0.014725</td>\n",
       "      <td>0.004035</td>\n",
       "      <td>0.034832</td>\n",
       "      <td>-1.013130</td>\n",
       "      <td>-0.136908</td>\n",
       "      <td>0.695199</td>\n",
       "      <td>-0.648998</td>\n",
       "      <td>-0.889767</td>\n",
       "      <td>0.923604</td>\n",
       "      <td>0.776436</td>\n",
       "    </tr>\n",
       "    <tr>\n",
       "      <td>21825</td>\n",
       "      <td>-1.014834</td>\n",
       "      <td>0.988654</td>\n",
       "      <td>-0.607887</td>\n",
       "      <td>-0.353874</td>\n",
       "      <td>-0.441856</td>\n",
       "      <td>0.508145</td>\n",
       "      <td>-0.994024</td>\n",
       "      <td>2.443161</td>\n",
       "      <td>-0.166492</td>\n",
       "      <td>2.019535</td>\n",
       "      <td>-0.195440</td>\n",
       "      <td>1.137372</td>\n",
       "      <td>-3.613207</td>\n",
       "      <td>-0.893721</td>\n",
       "      <td>2.367721</td>\n",
       "      <td>-0.937056</td>\n",
       "      <td>-2.220102</td>\n",
       "      <td>-0.338670</td>\n",
       "    </tr>\n",
       "    <tr>\n",
       "      <td>...</td>\n",
       "      <td>...</td>\n",
       "      <td>...</td>\n",
       "      <td>...</td>\n",
       "      <td>...</td>\n",
       "      <td>...</td>\n",
       "      <td>...</td>\n",
       "      <td>...</td>\n",
       "      <td>...</td>\n",
       "      <td>...</td>\n",
       "      <td>...</td>\n",
       "      <td>...</td>\n",
       "      <td>...</td>\n",
       "      <td>...</td>\n",
       "      <td>...</td>\n",
       "      <td>...</td>\n",
       "      <td>...</td>\n",
       "      <td>...</td>\n",
       "      <td>...</td>\n",
       "    </tr>\n",
       "    <tr>\n",
       "      <td>3875</td>\n",
       "      <td>-1.485815</td>\n",
       "      <td>0.029502</td>\n",
       "      <td>0.000213</td>\n",
       "      <td>-0.604233</td>\n",
       "      <td>0.456270</td>\n",
       "      <td>-0.522315</td>\n",
       "      <td>0.234981</td>\n",
       "      <td>-1.747091</td>\n",
       "      <td>-0.654285</td>\n",
       "      <td>1.167986</td>\n",
       "      <td>0.781327</td>\n",
       "      <td>0.131063</td>\n",
       "      <td>0.978407</td>\n",
       "      <td>-2.254783</td>\n",
       "      <td>-0.817583</td>\n",
       "      <td>-1.144452</td>\n",
       "      <td>-1.005828</td>\n",
       "      <td>-0.964022</td>\n",
       "    </tr>\n",
       "    <tr>\n",
       "      <td>21866</td>\n",
       "      <td>-0.072872</td>\n",
       "      <td>1.228442</td>\n",
       "      <td>0.000213</td>\n",
       "      <td>0.733025</td>\n",
       "      <td>-0.639544</td>\n",
       "      <td>-0.787424</td>\n",
       "      <td>0.170509</td>\n",
       "      <td>-0.033092</td>\n",
       "      <td>-1.551227</td>\n",
       "      <td>-0.504878</td>\n",
       "      <td>0.179416</td>\n",
       "      <td>-1.536841</td>\n",
       "      <td>-1.856585</td>\n",
       "      <td>-0.060507</td>\n",
       "      <td>-0.291953</td>\n",
       "      <td>0.231656</td>\n",
       "      <td>-1.995081</td>\n",
       "      <td>-1.687839</td>\n",
       "    </tr>\n",
       "    <tr>\n",
       "      <td>22966</td>\n",
       "      <td>-0.308363</td>\n",
       "      <td>0.269290</td>\n",
       "      <td>0.608313</td>\n",
       "      <td>0.131761</td>\n",
       "      <td>1.469797</td>\n",
       "      <td>-1.853494</td>\n",
       "      <td>1.042900</td>\n",
       "      <td>1.162109</td>\n",
       "      <td>0.224738</td>\n",
       "      <td>0.728346</td>\n",
       "      <td>-0.453926</td>\n",
       "      <td>1.696503</td>\n",
       "      <td>2.540546</td>\n",
       "      <td>0.285576</td>\n",
       "      <td>-2.090197</td>\n",
       "      <td>-0.868825</td>\n",
       "      <td>0.936770</td>\n",
       "      <td>0.612262</td>\n",
       "    </tr>\n",
       "    <tr>\n",
       "      <td>3699</td>\n",
       "      <td>0.398109</td>\n",
       "      <td>-1.649014</td>\n",
       "      <td>-0.303837</td>\n",
       "      <td>-0.495644</td>\n",
       "      <td>1.027257</td>\n",
       "      <td>0.343753</td>\n",
       "      <td>-0.497385</td>\n",
       "      <td>1.101919</td>\n",
       "      <td>-1.174930</td>\n",
       "      <td>0.035381</td>\n",
       "      <td>-0.792598</td>\n",
       "      <td>-0.029592</td>\n",
       "      <td>-0.226830</td>\n",
       "      <td>0.797822</td>\n",
       "      <td>0.278907</td>\n",
       "      <td>-0.104095</td>\n",
       "      <td>0.955322</td>\n",
       "      <td>-0.358135</td>\n",
       "    </tr>\n",
       "    <tr>\n",
       "      <td>9287</td>\n",
       "      <td>0.633599</td>\n",
       "      <td>-0.450074</td>\n",
       "      <td>1.216412</td>\n",
       "      <td>1.285021</td>\n",
       "      <td>0.732230</td>\n",
       "      <td>-1.687097</td>\n",
       "      <td>-0.721024</td>\n",
       "      <td>2.041892</td>\n",
       "      <td>-0.579623</td>\n",
       "      <td>-1.390690</td>\n",
       "      <td>3.176396</td>\n",
       "      <td>1.192400</td>\n",
       "      <td>0.132162</td>\n",
       "      <td>0.224059</td>\n",
       "      <td>-0.248779</td>\n",
       "      <td>0.928154</td>\n",
       "      <td>0.268291</td>\n",
       "      <td>1.172156</td>\n",
       "    </tr>\n",
       "  </tbody>\n",
       "</table>\n",
       "<p>17166 rows × 18 columns</p>\n",
       "</div>"
      ],
      "text/plain": [
       "              0         1         2         3         4         5         6  \\\n",
       "id                                                                            \n",
       "12186 -1.014834  0.988654  0.608313 -1.219573  2.315742  2.149935  0.129206   \n",
       "7532  -1.250324 -0.929650  0.912362 -1.220579 -1.797575 -0.771911  0.175545   \n",
       "5469  -0.779343  0.748866  1.824512 -1.582543  1.189823  0.945189  1.470030   \n",
       "5998  -1.485815 -0.210286  0.000213 -0.999378  1.477825  0.381844  1.196022   \n",
       "21825 -1.014834  0.988654 -0.607887 -0.353874 -0.441856  0.508145 -0.994024   \n",
       "...         ...       ...       ...       ...       ...       ...       ...   \n",
       "3875  -1.485815  0.029502  0.000213 -0.604233  0.456270 -0.522315  0.234981   \n",
       "21866 -0.072872  1.228442  0.000213  0.733025 -0.639544 -0.787424  0.170509   \n",
       "22966 -0.308363  0.269290  0.608313  0.131761  1.469797 -1.853494  1.042900   \n",
       "3699   0.398109 -1.649014 -0.303837 -0.495644  1.027257  0.343753 -0.497385   \n",
       "9287   0.633599 -0.450074  1.216412  1.285021  0.732230 -1.687097 -0.721024   \n",
       "\n",
       "              7         8         9        10        11        12        13  \\\n",
       "id                                                                            \n",
       "12186  0.481958  0.100301  1.853256 -1.409439 -0.944188  0.578288  0.269921   \n",
       "7532  -0.629557  0.212792  0.434345 -0.112895 -0.632997  0.535767 -0.365820   \n",
       "5469   0.086709  1.522865  0.069539  0.221063  1.196195 -1.241071  0.600403   \n",
       "5998   0.375622  0.014725  0.004035  0.034832 -1.013130 -0.136908  0.695199   \n",
       "21825  2.443161 -0.166492  2.019535 -0.195440  1.137372 -3.613207 -0.893721   \n",
       "...         ...       ...       ...       ...       ...       ...       ...   \n",
       "3875  -1.747091 -0.654285  1.167986  0.781327  0.131063  0.978407 -2.254783   \n",
       "21866 -0.033092 -1.551227 -0.504878  0.179416 -1.536841 -1.856585 -0.060507   \n",
       "22966  1.162109  0.224738  0.728346 -0.453926  1.696503  2.540546  0.285576   \n",
       "3699   1.101919 -1.174930  0.035381 -0.792598 -0.029592 -0.226830  0.797822   \n",
       "9287   2.041892 -0.579623 -1.390690  3.176396  1.192400  0.132162  0.224059   \n",
       "\n",
       "             14        15        16        17  \n",
       "id                                             \n",
       "12186  1.985320 -0.127064 -0.473798  1.753419  \n",
       "7532  -0.065802  2.202253  1.973899 -1.441619  \n",
       "5469   0.533841  0.247869  0.994222  0.554850  \n",
       "5998  -0.648998 -0.889767  0.923604  0.776436  \n",
       "21825  2.367721 -0.937056 -2.220102 -0.338670  \n",
       "...         ...       ...       ...       ...  \n",
       "3875  -0.817583 -1.144452 -1.005828 -0.964022  \n",
       "21866 -0.291953  0.231656 -1.995081 -1.687839  \n",
       "22966 -2.090197 -0.868825  0.936770  0.612262  \n",
       "3699   0.278907 -0.104095  0.955322 -0.358135  \n",
       "9287  -0.248779  0.928154  0.268291  1.172156  \n",
       "\n",
       "[17166 rows x 18 columns]"
      ]
     },
     "execution_count": 48,
     "metadata": {},
     "output_type": "execute_result"
    }
   ],
   "source": [
    "# pca의 역변환입니다. \n",
    "df_prob4_train[X_comp].dot(pca.components_) + pca.mean_"
   ]
  },
  {
   "cell_type": "code",
   "execution_count": 49,
   "id": "a723ccb8",
   "metadata": {},
   "outputs": [
    {
     "data": {
      "text/html": [
       "<div>\n",
       "<style scoped>\n",
       "    .dataframe tbody tr th:only-of-type {\n",
       "        vertical-align: middle;\n",
       "    }\n",
       "\n",
       "    .dataframe tbody tr th {\n",
       "        vertical-align: top;\n",
       "    }\n",
       "\n",
       "    .dataframe thead th {\n",
       "        text-align: right;\n",
       "    }\n",
       "</style>\n",
       "<table border=\"1\" class=\"dataframe\">\n",
       "  <thead>\n",
       "    <tr style=\"text-align: right;\">\n",
       "      <th></th>\n",
       "      <th>measurement_0</th>\n",
       "      <th>measurement_1</th>\n",
       "      <th>measurement_2</th>\n",
       "      <th>measurement_3</th>\n",
       "      <th>measurement_4</th>\n",
       "      <th>measurement_5</th>\n",
       "      <th>measurement_6</th>\n",
       "      <th>measurement_7</th>\n",
       "      <th>measurement_8</th>\n",
       "      <th>measurement_9</th>\n",
       "      <th>measurement_10</th>\n",
       "      <th>measurement_11</th>\n",
       "      <th>measurement_12</th>\n",
       "      <th>measurement_13</th>\n",
       "      <th>measurement_14</th>\n",
       "      <th>measurement_15</th>\n",
       "      <th>measurement_16</th>\n",
       "      <th>measurement_17</th>\n",
       "    </tr>\n",
       "    <tr>\n",
       "      <th>id</th>\n",
       "      <th></th>\n",
       "      <th></th>\n",
       "      <th></th>\n",
       "      <th></th>\n",
       "      <th></th>\n",
       "      <th></th>\n",
       "      <th></th>\n",
       "      <th></th>\n",
       "      <th></th>\n",
       "      <th></th>\n",
       "      <th></th>\n",
       "      <th></th>\n",
       "      <th></th>\n",
       "      <th></th>\n",
       "      <th></th>\n",
       "      <th></th>\n",
       "      <th></th>\n",
       "      <th></th>\n",
       "    </tr>\n",
       "  </thead>\n",
       "  <tbody>\n",
       "    <tr>\n",
       "      <td>12186</td>\n",
       "      <td>-1.014834</td>\n",
       "      <td>0.988654</td>\n",
       "      <td>0.608313</td>\n",
       "      <td>-1.219573</td>\n",
       "      <td>2.315742</td>\n",
       "      <td>2.149935</td>\n",
       "      <td>0.129206</td>\n",
       "      <td>0.481958</td>\n",
       "      <td>0.100301</td>\n",
       "      <td>1.853256</td>\n",
       "      <td>-1.409439</td>\n",
       "      <td>-0.944188</td>\n",
       "      <td>0.578288</td>\n",
       "      <td>0.269921</td>\n",
       "      <td>1.985320</td>\n",
       "      <td>-0.127064</td>\n",
       "      <td>-0.473798</td>\n",
       "      <td>1.753419</td>\n",
       "    </tr>\n",
       "    <tr>\n",
       "      <td>7532</td>\n",
       "      <td>-1.250324</td>\n",
       "      <td>-0.929650</td>\n",
       "      <td>0.912362</td>\n",
       "      <td>-1.220579</td>\n",
       "      <td>-1.797575</td>\n",
       "      <td>-0.771911</td>\n",
       "      <td>0.175545</td>\n",
       "      <td>-0.629557</td>\n",
       "      <td>0.212792</td>\n",
       "      <td>0.434345</td>\n",
       "      <td>-0.112895</td>\n",
       "      <td>-0.632997</td>\n",
       "      <td>0.535767</td>\n",
       "      <td>-0.365820</td>\n",
       "      <td>-0.065802</td>\n",
       "      <td>2.202253</td>\n",
       "      <td>1.973899</td>\n",
       "      <td>-1.441619</td>\n",
       "    </tr>\n",
       "    <tr>\n",
       "      <td>5469</td>\n",
       "      <td>-0.779343</td>\n",
       "      <td>0.748866</td>\n",
       "      <td>1.824512</td>\n",
       "      <td>-1.582543</td>\n",
       "      <td>1.189823</td>\n",
       "      <td>0.945189</td>\n",
       "      <td>1.470030</td>\n",
       "      <td>0.086709</td>\n",
       "      <td>1.522865</td>\n",
       "      <td>0.069539</td>\n",
       "      <td>0.221063</td>\n",
       "      <td>1.196195</td>\n",
       "      <td>-1.241071</td>\n",
       "      <td>0.600403</td>\n",
       "      <td>0.533841</td>\n",
       "      <td>0.247869</td>\n",
       "      <td>0.994222</td>\n",
       "      <td>0.554850</td>\n",
       "    </tr>\n",
       "    <tr>\n",
       "      <td>5998</td>\n",
       "      <td>-1.485815</td>\n",
       "      <td>-0.210286</td>\n",
       "      <td>0.000213</td>\n",
       "      <td>-0.999378</td>\n",
       "      <td>1.477825</td>\n",
       "      <td>0.381844</td>\n",
       "      <td>1.196022</td>\n",
       "      <td>0.375622</td>\n",
       "      <td>0.014725</td>\n",
       "      <td>0.004035</td>\n",
       "      <td>0.034832</td>\n",
       "      <td>-1.013130</td>\n",
       "      <td>-0.136908</td>\n",
       "      <td>0.695199</td>\n",
       "      <td>-0.648998</td>\n",
       "      <td>-0.889767</td>\n",
       "      <td>0.923604</td>\n",
       "      <td>0.776436</td>\n",
       "    </tr>\n",
       "    <tr>\n",
       "      <td>21825</td>\n",
       "      <td>-1.014834</td>\n",
       "      <td>0.988654</td>\n",
       "      <td>-0.607887</td>\n",
       "      <td>-0.353874</td>\n",
       "      <td>-0.441856</td>\n",
       "      <td>0.508145</td>\n",
       "      <td>-0.994024</td>\n",
       "      <td>2.443161</td>\n",
       "      <td>-0.166492</td>\n",
       "      <td>2.019535</td>\n",
       "      <td>-0.195440</td>\n",
       "      <td>1.137372</td>\n",
       "      <td>-3.613207</td>\n",
       "      <td>-0.893721</td>\n",
       "      <td>2.367721</td>\n",
       "      <td>-0.937056</td>\n",
       "      <td>-2.220102</td>\n",
       "      <td>-0.338670</td>\n",
       "    </tr>\n",
       "    <tr>\n",
       "      <td>...</td>\n",
       "      <td>...</td>\n",
       "      <td>...</td>\n",
       "      <td>...</td>\n",
       "      <td>...</td>\n",
       "      <td>...</td>\n",
       "      <td>...</td>\n",
       "      <td>...</td>\n",
       "      <td>...</td>\n",
       "      <td>...</td>\n",
       "      <td>...</td>\n",
       "      <td>...</td>\n",
       "      <td>...</td>\n",
       "      <td>...</td>\n",
       "      <td>...</td>\n",
       "      <td>...</td>\n",
       "      <td>...</td>\n",
       "      <td>...</td>\n",
       "      <td>...</td>\n",
       "    </tr>\n",
       "    <tr>\n",
       "      <td>3875</td>\n",
       "      <td>-1.485815</td>\n",
       "      <td>0.029502</td>\n",
       "      <td>0.000213</td>\n",
       "      <td>-0.604233</td>\n",
       "      <td>0.456270</td>\n",
       "      <td>-0.522315</td>\n",
       "      <td>0.234981</td>\n",
       "      <td>-1.747091</td>\n",
       "      <td>-0.654285</td>\n",
       "      <td>1.167986</td>\n",
       "      <td>0.781327</td>\n",
       "      <td>0.131063</td>\n",
       "      <td>0.978407</td>\n",
       "      <td>-2.254783</td>\n",
       "      <td>-0.817583</td>\n",
       "      <td>-1.144452</td>\n",
       "      <td>-1.005828</td>\n",
       "      <td>-0.964022</td>\n",
       "    </tr>\n",
       "    <tr>\n",
       "      <td>21866</td>\n",
       "      <td>-0.072872</td>\n",
       "      <td>1.228442</td>\n",
       "      <td>0.000213</td>\n",
       "      <td>0.733025</td>\n",
       "      <td>-0.639544</td>\n",
       "      <td>-0.787424</td>\n",
       "      <td>0.170509</td>\n",
       "      <td>-0.033092</td>\n",
       "      <td>-1.551227</td>\n",
       "      <td>-0.504878</td>\n",
       "      <td>0.179416</td>\n",
       "      <td>-1.536841</td>\n",
       "      <td>-1.856585</td>\n",
       "      <td>-0.060507</td>\n",
       "      <td>-0.291953</td>\n",
       "      <td>0.231656</td>\n",
       "      <td>-1.995081</td>\n",
       "      <td>-1.687839</td>\n",
       "    </tr>\n",
       "    <tr>\n",
       "      <td>22966</td>\n",
       "      <td>-0.308363</td>\n",
       "      <td>0.269290</td>\n",
       "      <td>0.608313</td>\n",
       "      <td>0.131761</td>\n",
       "      <td>1.469797</td>\n",
       "      <td>-1.853494</td>\n",
       "      <td>1.042900</td>\n",
       "      <td>1.162109</td>\n",
       "      <td>0.224738</td>\n",
       "      <td>0.728346</td>\n",
       "      <td>-0.453926</td>\n",
       "      <td>1.696503</td>\n",
       "      <td>2.540546</td>\n",
       "      <td>0.285576</td>\n",
       "      <td>-2.090197</td>\n",
       "      <td>-0.868825</td>\n",
       "      <td>0.936770</td>\n",
       "      <td>0.612262</td>\n",
       "    </tr>\n",
       "    <tr>\n",
       "      <td>3699</td>\n",
       "      <td>0.398109</td>\n",
       "      <td>-1.649014</td>\n",
       "      <td>-0.303837</td>\n",
       "      <td>-0.495644</td>\n",
       "      <td>1.027257</td>\n",
       "      <td>0.343753</td>\n",
       "      <td>-0.497385</td>\n",
       "      <td>1.101919</td>\n",
       "      <td>-1.174930</td>\n",
       "      <td>0.035381</td>\n",
       "      <td>-0.792598</td>\n",
       "      <td>-0.029592</td>\n",
       "      <td>-0.226830</td>\n",
       "      <td>0.797822</td>\n",
       "      <td>0.278907</td>\n",
       "      <td>-0.104095</td>\n",
       "      <td>0.955322</td>\n",
       "      <td>-0.358135</td>\n",
       "    </tr>\n",
       "    <tr>\n",
       "      <td>9287</td>\n",
       "      <td>0.633599</td>\n",
       "      <td>-0.450074</td>\n",
       "      <td>1.216412</td>\n",
       "      <td>1.285021</td>\n",
       "      <td>0.732230</td>\n",
       "      <td>-1.687097</td>\n",
       "      <td>-0.721024</td>\n",
       "      <td>2.041892</td>\n",
       "      <td>-0.579623</td>\n",
       "      <td>-1.390690</td>\n",
       "      <td>3.176396</td>\n",
       "      <td>1.192400</td>\n",
       "      <td>0.132162</td>\n",
       "      <td>0.224059</td>\n",
       "      <td>-0.248779</td>\n",
       "      <td>0.928154</td>\n",
       "      <td>0.268291</td>\n",
       "      <td>1.172156</td>\n",
       "    </tr>\n",
       "  </tbody>\n",
       "</table>\n",
       "<p>17166 rows × 18 columns</p>\n",
       "</div>"
      ],
      "text/plain": [
       "       measurement_0  measurement_1  measurement_2  measurement_3  \\\n",
       "id                                                                  \n",
       "12186      -1.014834       0.988654       0.608313      -1.219573   \n",
       "7532       -1.250324      -0.929650       0.912362      -1.220579   \n",
       "5469       -0.779343       0.748866       1.824512      -1.582543   \n",
       "5998       -1.485815      -0.210286       0.000213      -0.999378   \n",
       "21825      -1.014834       0.988654      -0.607887      -0.353874   \n",
       "...              ...            ...            ...            ...   \n",
       "3875       -1.485815       0.029502       0.000213      -0.604233   \n",
       "21866      -0.072872       1.228442       0.000213       0.733025   \n",
       "22966      -0.308363       0.269290       0.608313       0.131761   \n",
       "3699        0.398109      -1.649014      -0.303837      -0.495644   \n",
       "9287        0.633599      -0.450074       1.216412       1.285021   \n",
       "\n",
       "       measurement_4  measurement_5  measurement_6  measurement_7  \\\n",
       "id                                                                  \n",
       "12186       2.315742       2.149935       0.129206       0.481958   \n",
       "7532       -1.797575      -0.771911       0.175545      -0.629557   \n",
       "5469        1.189823       0.945189       1.470030       0.086709   \n",
       "5998        1.477825       0.381844       1.196022       0.375622   \n",
       "21825      -0.441856       0.508145      -0.994024       2.443161   \n",
       "...              ...            ...            ...            ...   \n",
       "3875        0.456270      -0.522315       0.234981      -1.747091   \n",
       "21866      -0.639544      -0.787424       0.170509      -0.033092   \n",
       "22966       1.469797      -1.853494       1.042900       1.162109   \n",
       "3699        1.027257       0.343753      -0.497385       1.101919   \n",
       "9287        0.732230      -1.687097      -0.721024       2.041892   \n",
       "\n",
       "       measurement_8  measurement_9  measurement_10  measurement_11  \\\n",
       "id                                                                    \n",
       "12186       0.100301       1.853256       -1.409439       -0.944188   \n",
       "7532        0.212792       0.434345       -0.112895       -0.632997   \n",
       "5469        1.522865       0.069539        0.221063        1.196195   \n",
       "5998        0.014725       0.004035        0.034832       -1.013130   \n",
       "21825      -0.166492       2.019535       -0.195440        1.137372   \n",
       "...              ...            ...             ...             ...   \n",
       "3875       -0.654285       1.167986        0.781327        0.131063   \n",
       "21866      -1.551227      -0.504878        0.179416       -1.536841   \n",
       "22966       0.224738       0.728346       -0.453926        1.696503   \n",
       "3699       -1.174930       0.035381       -0.792598       -0.029592   \n",
       "9287       -0.579623      -1.390690        3.176396        1.192400   \n",
       "\n",
       "       measurement_12  measurement_13  measurement_14  measurement_15  \\\n",
       "id                                                                      \n",
       "12186        0.578288        0.269921        1.985320       -0.127064   \n",
       "7532         0.535767       -0.365820       -0.065802        2.202253   \n",
       "5469        -1.241071        0.600403        0.533841        0.247869   \n",
       "5998        -0.136908        0.695199       -0.648998       -0.889767   \n",
       "21825       -3.613207       -0.893721        2.367721       -0.937056   \n",
       "...               ...             ...             ...             ...   \n",
       "3875         0.978407       -2.254783       -0.817583       -1.144452   \n",
       "21866       -1.856585       -0.060507       -0.291953        0.231656   \n",
       "22966        2.540546        0.285576       -2.090197       -0.868825   \n",
       "3699        -0.226830        0.797822        0.278907       -0.104095   \n",
       "9287         0.132162        0.224059       -0.248779        0.928154   \n",
       "\n",
       "       measurement_16  measurement_17  \n",
       "id                                     \n",
       "12186       -0.473798        1.753419  \n",
       "7532         1.973899       -1.441619  \n",
       "5469         0.994222        0.554850  \n",
       "5998         0.923604        0.776436  \n",
       "21825       -2.220102       -0.338670  \n",
       "...               ...             ...  \n",
       "3875        -1.005828       -0.964022  \n",
       "21866       -1.995081       -1.687839  \n",
       "22966        0.936770        0.612262  \n",
       "3699         0.955322       -0.358135  \n",
       "9287         0.268291        1.172156  \n",
       "\n",
       "[17166 rows x 18 columns]"
      ]
     },
     "execution_count": 49,
     "metadata": {},
     "output_type": "execute_result"
    }
   ],
   "source": [
    "# 원래값을 보여드립니다.\n",
    "df_prob4_train[X_pca]"
   ]
  },
  {
   "cell_type": "code",
   "execution_count": 50,
   "id": "ee910d88",
   "metadata": {},
   "outputs": [
    {
     "data": {
      "text/plain": [
       "array([[-1.01483386,  0.98865386,  0.60831251, ..., -0.12706416,\n",
       "        -0.47379825,  1.75341914],\n",
       "       [-1.25032427, -0.92964976,  0.9123625 , ...,  2.20225311,\n",
       "         1.97389947, -1.44161919],\n",
       "       [-0.77934346,  0.74886591,  1.82451245, ...,  0.24786945,\n",
       "         0.99422192,  0.55484978],\n",
       "       ...,\n",
       "       [-0.30836265,  0.26929   ,  0.60831251, ..., -0.86882471,\n",
       "         0.93676985,  0.61226211],\n",
       "       [ 0.39810856, -1.64901362, -0.30383743, ..., -0.10409526,\n",
       "         0.95532208, -0.35813457],\n",
       "       [ 0.63359896, -0.45007386,  1.21641248, ...,  0.92815439,\n",
       "         0.26829103,  1.17215604]])"
      ]
     },
     "execution_count": 50,
     "metadata": {},
     "output_type": "execute_result"
    }
   ],
   "source": [
    "# PCA에서 제공하는 역변환 기능입니다.\n",
    "pca.inverse_transform(df_prob4_train[X_comp])"
   ]
  },
  {
   "cell_type": "markdown",
   "id": "11d71204",
   "metadata": {},
   "source": [
    "## 단계 4-3\n",
    "\n",
    "초기에 loading을 입력 변수로 하여 prob4_train을 학습하고, prob4_test에 대한 성능을 측정한다.\n",
    "\n",
    "여기에 pca_0에서 pca_17까지 입력 변수를 하나씩 추가 하면서, \n",
    "\n",
    "즉 분산 설명율이 높은 순으로 컴포넌트를 하나씩 추가하여 prob4_train를 학습하고 prob4_test의 성능을 측정 했을 때, \n",
    "\n",
    "최적의 성능을 보인 컴포넌트들의 분산 설명율의 합을 B라고 한다. (만일 없다면 B = 0이다.)\n",
    "\n",
    "입력 변수: 설명 참고\n",
    "\n",
    "대상 변수: failure\n",
    "\n",
    "성능 지표: AUC(area under of ROC curve)\n",
    "\n",
    "---\n",
    "**함수가이드**\n",
    "\n",
    "sklearn.linear_model.LogisticRegression, solver=’lbfgs’\n",
    "\n",
    "---"
   ]
  },
  {
   "cell_type": "code",
   "execution_count": 51,
   "id": "8afec2fe",
   "metadata": {},
   "outputs": [],
   "source": [
    "from sklearn.linear_model import LogisticRegression\n",
    "from sklearn.metrics import roc_auc_score\n",
    "X_lr = list()\n",
    "X_vals = list()\n",
    "roc_test = list()\n",
    "clf_lr = LogisticRegression(solver='lbfgs')\n",
    "# 분산 설명율이 높은 순으로 컴포넌트를 하나씩 추가하여 변수를 구성해 갑니다.\n",
    "for i in ['loading'] + X_comp:\n",
    "    X_lr.append(i)\n",
    "    clf_lr.fit(df_prob4_train[X_lr], df_prob4_train['failure'])\n",
    "    roc_test.append(\n",
    "        roc_auc_score(df_prob4_test['failure'], clf_lr.predict_proba(df_prob4_test[X_lr])[:, 1])\n",
    "    )\n",
    "    # 입력 변수들을 저장합니다.\n",
    "    X_vals.append(X_lr.copy())"
   ]
  },
  {
   "cell_type": "code",
   "execution_count": 52,
   "id": "b56d267f",
   "metadata": {},
   "outputs": [
    {
     "data": {
      "text/plain": [
       "(['loading', 'pca_0', 'pca_1', 'pca_2', 'pca_3', 'pca_4', 'pca_5', 'pca_6'],\n",
       " 0.581757510516433)"
      ]
     },
     "execution_count": 52,
     "metadata": {},
     "output_type": "execute_result"
    }
   ],
   "source": [
    "X_vals[np.argmax(roc_test)], np.max(roc_test)"
   ]
  },
  {
   "cell_type": "code",
   "execution_count": 53,
   "id": "3732342a",
   "metadata": {},
   "outputs": [
    {
     "data": {
      "text/plain": [
       "0.49053704530610676"
      ]
     },
     "execution_count": 53,
     "metadata": {},
     "output_type": "execute_result"
    }
   ],
   "source": [
    "B = np.sum(pca.explained_variance_ratio_[:7])\n",
    "B"
   ]
  },
  {
   "cell_type": "code",
   "execution_count": 54,
   "id": "cff166a7",
   "metadata": {},
   "outputs": [
    {
     "data": {
      "text/plain": [
       "(0.6995009550811424, 0.49053704530610676, 1.1900380003872493, 1.19)"
      ]
     },
     "execution_count": 54,
     "metadata": {},
     "output_type": "execute_result"
    }
   ],
   "source": [
    "A, B, A + B, round(A + B, 2)"
   ]
  },
  {
   "cell_type": "markdown",
   "id": "db7a7e38",
   "metadata": {},
   "source": [
    "A + B를 소수점 셋째 자리에서 반올림하여 둘째 자리까지 구하라.\n",
    "\n",
    "**1.19**"
   ]
  },
  {
   "cell_type": "markdown",
   "id": "86ba3524",
   "metadata": {},
   "source": [
    "# 문제 5\n",
    "\n",
    "랜덤포레스트 분류기(Random-Forest Classifier)의 최적의 하이퍼 파라미터(Hyper-Parameter, 초매개변수)를 탐색하고자 한다.\n",
    "\n",
    "문제3에서 사용했던, 전처리(loading 결측치 처리와 표준화 과정을 거친) 과정을 거친 prob3_train과 prob3_test를 사용한다."
   ]
  },
  {
   "cell_type": "code",
   "execution_count": null,
   "id": "57e99809",
   "metadata": {},
   "outputs": [],
   "source": []
  },
  {
   "cell_type": "markdown",
   "id": "05189b7d",
   "metadata": {},
   "source": [
    "## 단계 5-1\n",
    "\n",
    "sklearn에서 제공하는 랜덤포레스트 분류기(Random-Forest Classifier)의 하이퍼 파라미터 중 \n",
    "\n",
    "n_estimators, max_depth 그리고 min_samples_split의 최적 조합을 탐색한다. \n",
    "\n",
    "탐색 값은 아래에 제공한 하이퍼 파라미터의 모든 조합이다. \n",
    "\n",
    "prob3_train을 대상으로 5-겹 층화교차검증(5-fold stratified cross validation)으로 \n",
    "\n",
    "각각  겹외셋(OOF set, Out-Of-Fold set)의 성능에 대한 평균을 기준으로 하이퍼 파라미터를 선택한다.\n",
    "\n",
    "  - n_estimators: [5, 10, 15]\n",
    "\n",
    "  - max_depth: [5, 6, 7]\n",
    "  \n",
    "  - min_samples_split: [256, 512]\n",
    "\n",
    "Hint] 모든 하이퍼 파라미터의 조합의 수는 18개이다\n",
    "\n",
    "입력 변수: loading, measurement_0 ~ 17, na_1, na_2 (순서에 유의)\n",
    "\n",
    "대상 변수: failure\n",
    "\n",
    "성능 지표: AUC (area under of ROC curve)\n",
    "\n",
    "---\n",
    "**함수가이드**\n",
    "\n",
    "sklearn.ensemble.RandomForestClassifier, random_state=123 \n",
    "\n",
    "itertools.product 필요시 사용\n",
    "\n",
    "sklearn.model_selection.cross_val_score 필요시 사용\n",
    "\n",
    "sklearn.model_selection.StratifiedKFold, random_state=123, shuffle=True\n",
    "\n",
    "sklearn.model_selection.GridSearchCV 필요시 사용\n",
    "\n",
    "---"
   ]
  },
  {
   "cell_type": "code",
   "execution_count": 55,
   "id": "6226741f",
   "metadata": {},
   "outputs": [
    {
     "data": {
      "text/plain": [
       "GridSearchCV(cv=StratifiedKFold(n_splits=5, random_state=123, shuffle=True),\n",
       "             error_score='raise-deprecating',\n",
       "             estimator=RandomForestClassifier(bootstrap=True, class_weight=None,\n",
       "                                              criterion='gini', max_depth=None,\n",
       "                                              max_features='auto',\n",
       "                                              max_leaf_nodes=None,\n",
       "                                              min_impurity_decrease=0.0,\n",
       "                                              min_impurity_split=None,\n",
       "                                              min_samples_leaf=1,\n",
       "                                              min_samples_split=2,\n",
       "                                              min_weight_fraction_leaf=0.0,\n",
       "                                              n_estimators='warn', n_jobs=None,\n",
       "                                              oob_score=False, random_state=123,\n",
       "                                              verbose=0, warm_start=False),\n",
       "             iid=False, n_jobs=None,\n",
       "             param_grid={'max_depth': [5, 6, 7],\n",
       "                         'min_samples_split': [256, 512],\n",
       "                         'n_estimators': [5, 10, 15]},\n",
       "             pre_dispatch='2*n_jobs', refit=True, return_train_score=False,\n",
       "             scoring='roc_auc', verbose=0)"
      ]
     },
     "execution_count": 55,
     "metadata": {},
     "output_type": "execute_result"
    }
   ],
   "source": [
    "# 방법1: sklearn.model_selection.GridSearchCV 이용\n",
    "from sklearn.ensemble import RandomForestClassifier\n",
    "from sklearn.model_selection import GridSearchCV\n",
    "from sklearn.model_selection import StratifiedKFold\n",
    "\n",
    "X_gscv = ['loading'] + ['measurement_{}'.format(i) for i in range(0, 18)] + ['na_1', 'na_2']\n",
    "gscv = GridSearchCV(\n",
    "    estimator = RandomForestClassifier(random_state=123),\n",
    "    param_grid = {\n",
    "        'n_estimators': [5, 10, 15],\n",
    "        'max_depth': [5, 6, 7],\n",
    "        'min_samples_split': [256, 512]\n",
    "    },# Param grid에 탐색 대상 파라메터를 구성합니다.\n",
    "    scoring='roc_auc',\n",
    "    cv = StratifiedKFold(5, random_state=123, shuffle=True), # 5-겹 층화교차검증(5-fold stratified cross validation)으로\n",
    "    iid = False, # 각각 겹외셋(OOF set, Out-Of-Fold set)의 성능에 대한 평균을 기준으로 하이퍼 파라미터를 선택한다.\n",
    ")\n",
    "gscv.fit(df_prob3_train[X_gscv], df_prob3_train['failure'])"
   ]
  },
  {
   "cell_type": "code",
   "execution_count": 56,
   "id": "587b264b",
   "metadata": {},
   "outputs": [
    {
     "data": {
      "text/plain": [
       "({'max_depth': 7, 'min_samples_split': 512, 'n_estimators': 15},\n",
       " 0.5745226991354744)"
      ]
     },
     "execution_count": 56,
     "metadata": {},
     "output_type": "execute_result"
    }
   ],
   "source": [
    "best_params = gscv.best_params_\n",
    "best_params, gscv.best_score_"
   ]
  },
  {
   "cell_type": "code",
   "execution_count": 57,
   "id": "d9ed9d1e",
   "metadata": {},
   "outputs": [
    {
     "name": "stdout",
     "output_type": "stream",
     "text": [
      "{'n_estimators': 5, 'max_depth': 5, 'min_samples_split': 256} 0.5547115468443294\n",
      "{'n_estimators': 5, 'max_depth': 5, 'min_samples_split': 512} 0.5617150416141751\n",
      "{'n_estimators': 5, 'max_depth': 6, 'min_samples_split': 256} 0.5568999583940097\n",
      "{'n_estimators': 5, 'max_depth': 6, 'min_samples_split': 512} 0.5623239919998733\n",
      "{'n_estimators': 5, 'max_depth': 7, 'min_samples_split': 256} 0.5567633668997499\n",
      "{'n_estimators': 5, 'max_depth': 7, 'min_samples_split': 512} 0.5642015275666604\n",
      "{'n_estimators': 10, 'max_depth': 5, 'min_samples_split': 256} 0.5654552370913933\n",
      "{'n_estimators': 10, 'max_depth': 5, 'min_samples_split': 512} 0.5707474621000601\n",
      "{'n_estimators': 10, 'max_depth': 6, 'min_samples_split': 256} 0.5681316681217556\n",
      "{'n_estimators': 10, 'max_depth': 6, 'min_samples_split': 512} 0.5680847464819798\n",
      "{'n_estimators': 10, 'max_depth': 7, 'min_samples_split': 256} 0.5670255107788329\n",
      "{'n_estimators': 10, 'max_depth': 7, 'min_samples_split': 512} 0.5724060304780464\n",
      "{'n_estimators': 15, 'max_depth': 5, 'min_samples_split': 256} 0.5692073209929452\n",
      "{'n_estimators': 15, 'max_depth': 5, 'min_samples_split': 512} 0.5716407241067258\n",
      "{'n_estimators': 15, 'max_depth': 6, 'min_samples_split': 256} 0.5706158790202794\n",
      "{'n_estimators': 15, 'max_depth': 6, 'min_samples_split': 512} 0.5699305861415821\n",
      "{'n_estimators': 15, 'max_depth': 7, 'min_samples_split': 256} 0.5699417404975209\n",
      "{'n_estimators': 15, 'max_depth': 7, 'min_samples_split': 512} 0.5745226991354744\n"
     ]
    }
   ],
   "source": [
    "# 방법 2 itertools.product + 직접 교차 검증\n",
    "\n",
    "from itertools import product\n",
    "from sklearn.model_selection import cross_val_score\n",
    "from sklearn.metrics import roc_auc_score\n",
    "params = [\n",
    "    {'n_estimators': a, 'max_depth': b,'min_samples_split': c} \n",
    "    for a, b, c in product([5, 10, 15], [5, 6, 7], [256, 512])\n",
    "]\n",
    "roc_params = list()\n",
    "cv = StratifiedKFold(5, random_state=123, shuffle=True)\n",
    "for param in params:\n",
    "    \"\"\"\n",
    "    # cross_val_score은 아래 작업을 할 수 있습니다.\n",
    "    roc_vals = cross_val_score(\n",
    "        RandomForestClassifier(random_state=123, **param), \n",
    "        df_prob3_train[X_gscv], df_prob3_train['failure'], cv=cv, scoring='roc_auc'\n",
    "    )\n",
    "    \"\"\"\n",
    "    roc_vals = list()\n",
    "    clf_rf = RandomForestClassifier(random_state=123, **param)\n",
    "    # splitter의 split 메소드는 폴드(fold)의 train_idx와 test_idx를 넘겨 줍니다.\n",
    "    for train_idx, test_idx in cv.split(df_prob3_train[X_gscv], df_prob3_train['failure']):\n",
    "        # train_idx, test_idx는 위치 인덱스입니다.\n",
    "        df_cv_train, df_eval = df_prob3_train.iloc[train_idx], df_prob3_train.iloc[test_idx]\n",
    "        clf_rf.fit(df_cv_train[X_gscv], df_cv_train['failure'])\n",
    "        roc_vals.append(\n",
    "            roc_auc_score(df_eval['failure'], clf_rf.predict_proba(df_eval[X_gscv])[:, 1])\n",
    "        )\n",
    "    roc_params.append(np.mean(roc_vals))\n",
    "    print(param, roc_params[-1])"
   ]
  },
  {
   "cell_type": "code",
   "execution_count": 58,
   "id": "65b1326f",
   "metadata": {},
   "outputs": [
    {
     "data": {
      "text/plain": [
       "({'n_estimators': 15, 'max_depth': 7, 'min_samples_split': 512},\n",
       " 0.5745226991354744)"
      ]
     },
     "execution_count": 58,
     "metadata": {},
     "output_type": "execute_result"
    }
   ],
   "source": [
    "params[np.argmax(roc_params)], np.max(roc_params)"
   ]
  },
  {
   "cell_type": "markdown",
   "id": "eacc40ad",
   "metadata": {},
   "source": [
    "## 단계 5-2\n",
    "\n",
    "단계 5-1에서 구한 최적 하이퍼 파라미터로 설정한 랜덤포레스트 분류기(Random-Forest Classifier)를 사용하여 prob3_train 학습하고, \n",
    "\n",
    "prob3_test로 성능을 측정하여 이 값을 A라고 한다.\n",
    "\n",
    "입력 변수: loading, measurement_0 ~ 17, na_1, na_2 (순서에 유의)\n",
    "\n",
    "대상 변수: failure\n",
    "\n",
    "성능 지표: AUC (area under of ROC curve)\n",
    "\n",
    "---\n",
    "**함수가이드**\n",
    "\n",
    "sklearn.ensemble.RandomForestClassifier, random_state=123 \n",
    "\n",
    "---\n"
   ]
  },
  {
   "cell_type": "code",
   "execution_count": 59,
   "id": "1ebecc95",
   "metadata": {},
   "outputs": [
    {
     "data": {
      "text/plain": [
       "(0.5687712018291998, 0.6416568062149542)"
      ]
     },
     "execution_count": 59,
     "metadata": {},
     "output_type": "execute_result"
    }
   ],
   "source": [
    "from sklearn.ensemble import RandomForestClassifier\n",
    "from sklearn.metrics import roc_auc_score\n",
    "\n",
    "clf_rf = RandomForestClassifier(random_state=123, **best_params)\n",
    "clf_rf.fit(df_prob3_train[X_gscv], df_prob3_train['failure'])\n",
    "A = roc_auc_score(df_prob3_test['failure'], clf_rf.predict_proba(df_prob3_test[X_gscv])[:, 1])\n",
    "(\n",
    "    A,\n",
    "    roc_auc_score(df_prob3_train['failure'], clf_rf.predict_proba(df_prob3_train[X_gscv])[:, 1])\n",
    ")"
   ]
  },
  {
   "cell_type": "code",
   "execution_count": 60,
   "id": "985cc324",
   "metadata": {},
   "outputs": [
    {
     "data": {
      "text/plain": [
       "(0.5687712018291998, 0.569)"
      ]
     },
     "execution_count": 60,
     "metadata": {},
     "output_type": "execute_result"
    }
   ],
   "source": [
    "A, round(A, 3)"
   ]
  },
  {
   "cell_type": "markdown",
   "id": "044dd522",
   "metadata": {},
   "source": [
    "A값을 소수점 넷째 자리에서 반올림하여 3째 자리까지 출력하시오.\n",
    "\n",
    "**0.569**"
   ]
  },
  {
   "cell_type": "code",
   "execution_count": null,
   "id": "b38952bf",
   "metadata": {},
   "outputs": [],
   "source": []
  }
 ],
 "metadata": {
  "kernelspec": {
   "display_name": "Python 3 (ipykernel)",
   "language": "python",
   "name": "python3"
  },
  "language_info": {
   "codemirror_mode": {
    "name": "ipython",
    "version": 3
   },
   "file_extension": ".py",
   "mimetype": "text/x-python",
   "name": "python",
   "nbconvert_exporter": "python",
   "pygments_lexer": "ipython3",
   "version": "3.7.4"
  }
 },
 "nbformat": 4,
 "nbformat_minor": 5
}
